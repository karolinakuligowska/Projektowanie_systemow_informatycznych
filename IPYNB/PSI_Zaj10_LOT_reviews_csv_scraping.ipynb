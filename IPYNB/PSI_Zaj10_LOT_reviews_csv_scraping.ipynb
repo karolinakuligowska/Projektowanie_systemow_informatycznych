{
  "nbformat": 4,
  "nbformat_minor": 0,
  "metadata": {
    "colab": {
      "provenance": [],
      "authorship_tag": "ABX9TyMfN0niSUsZ++wdHwZIg7Zm",
      "include_colab_link": true
    },
    "kernelspec": {
      "name": "python3",
      "display_name": "Python 3"
    },
    "language_info": {
      "name": "python"
    }
  },
  "cells": [
    {
      "cell_type": "markdown",
      "metadata": {
        "id": "view-in-github",
        "colab_type": "text"
      },
      "source": [
        "<a href=\"https://colab.research.google.com/github/karolinakuligowska/Projektowanie_systemow_informatycznych/blob/main/PSI_Zaj10_LOT_reviews_csv_scraping.ipynb\" target=\"_parent\"><img src=\"https://colab.research.google.com/assets/colab-badge.svg\" alt=\"Open In Colab\"/></a>"
      ]
    },
    {
      "cell_type": "code",
      "execution_count": 1,
      "metadata": {
        "colab": {
          "base_uri": "https://localhost:8080/"
        },
        "id": "eqCLtD79A-Ah",
        "outputId": "5e93cfa7-0b2e-41f4-ad5d-ed9c9402e8f1"
      },
      "outputs": [
        {
          "output_type": "stream",
          "name": "stdout",
          "text": [
            "Requirement already satisfied: beautifulsoup4 in /usr/local/lib/python3.11/dist-packages (4.13.4)\n",
            "Requirement already satisfied: soupsieve>1.2 in /usr/local/lib/python3.11/dist-packages (from beautifulsoup4) (2.7)\n",
            "Requirement already satisfied: typing-extensions>=4.0.0 in /usr/local/lib/python3.11/dist-packages (from beautifulsoup4) (4.13.2)\n"
          ]
        }
      ],
      "source": [
        "!pip install beautifulsoup4"
      ]
    },
    {
      "cell_type": "code",
      "source": [
        "!pip install lxml"
      ],
      "metadata": {
        "colab": {
          "base_uri": "https://localhost:8080/"
        },
        "id": "kVVitMp5BIfP",
        "outputId": "be4e4d16-316b-4524-b4ae-a90ee691d8e6"
      },
      "execution_count": 2,
      "outputs": [
        {
          "output_type": "stream",
          "name": "stdout",
          "text": [
            "Requirement already satisfied: lxml in /usr/local/lib/python3.11/dist-packages (5.4.0)\n"
          ]
        }
      ]
    },
    {
      "cell_type": "code",
      "source": [
        "!pip install pandas"
      ],
      "metadata": {
        "colab": {
          "base_uri": "https://localhost:8080/"
        },
        "id": "1X_BHpzREiO6",
        "outputId": "2e9e9a50-9514-4999-a2a9-a05178aac051"
      },
      "execution_count": 18,
      "outputs": [
        {
          "output_type": "stream",
          "name": "stdout",
          "text": [
            "Requirement already satisfied: pandas in /usr/local/lib/python3.11/dist-packages (2.2.2)\n",
            "Requirement already satisfied: numpy>=1.23.2 in /usr/local/lib/python3.11/dist-packages (from pandas) (2.0.2)\n",
            "Requirement already satisfied: python-dateutil>=2.8.2 in /usr/local/lib/python3.11/dist-packages (from pandas) (2.9.0.post0)\n",
            "Requirement already satisfied: pytz>=2020.1 in /usr/local/lib/python3.11/dist-packages (from pandas) (2025.2)\n",
            "Requirement already satisfied: tzdata>=2022.7 in /usr/local/lib/python3.11/dist-packages (from pandas) (2025.2)\n",
            "Requirement already satisfied: six>=1.5 in /usr/local/lib/python3.11/dist-packages (from python-dateutil>=2.8.2->pandas) (1.17.0)\n"
          ]
        }
      ]
    },
    {
      "cell_type": "code",
      "source": [
        "# Import libraries\n",
        "import requests\n",
        "from bs4 import BeautifulSoup\n",
        "import pandas as pd\n",
        "import time\n",
        "import unicodedata"
      ],
      "metadata": {
        "id": "tv-66e7-BSm1"
      },
      "execution_count": 19,
      "outputs": []
    },
    {
      "cell_type": "code",
      "source": [
        "# --- Settings ---\n",
        "headers = {\n",
        "    \"User-Agent\": \"Mozilla/5.0 (Windows NT 6.3; Win64; x64) AppleWebKit/537.36 (KHTML, like Gecko) Chrome/80.0.3987.162 Safari/537.36\"\n",
        "}\n",
        "\n",
        "# --- Scrape only LOT Polish Airlines ---\n",
        "url = \"https://www.airlinequality.com/airline-reviews/lot-polish-airlines/?sortby=post_date%3ADesc&pagesize=100\"\n",
        "\n",
        "html = requests.get(url, headers=headers).text\n",
        "soup = BeautifulSoup(html, \"lxml\")\n",
        "\n",
        "container = soup.find(\"article\", {\"class\": \"comp comp_reviews-airline querylist position-content\"})\n",
        "\n",
        "# --- Initialize ---\n",
        "columns = [\"Aircraft\",\"Type Of Traveller\",\"Seat Type\",\"Route\",\"Date Flown\",\"Seat Comfort\",\"Cabin Staff Service\",\n",
        "           \"Food & Beverages\",\"Ground Service\",\"Inflight Entertainment\",\"Wifi & Connectivity\",\n",
        "           \"Value For Money\",\"Recommended\"]\n",
        "\n",
        "df_columns = [\"Airline Name\", \"Overall_Rating\", \"Review_Title\", \"Review_Date\", \"Verified\", \"Review_Text\"] + columns\n",
        "\n",
        "reviews = []"
      ],
      "metadata": {
        "id": "3eFZYzWDBTrJ"
      },
      "execution_count": 20,
      "outputs": []
    },
    {
      "cell_type": "code",
      "source": [
        "# https://www.airlinequality.com/airline-reviews/lot-polish-airlines/?sortby=post_date%3ADesc&pagesize=100"
      ],
      "metadata": {
        "id": "-TPCrBhOBdJu"
      },
      "execution_count": 5,
      "outputs": []
    },
    {
      "cell_type": "code",
      "source": [
        "# --- Scrape each review ---\n",
        "if container:\n",
        "    for items in container.find_all(\"article\"):\n",
        "        verified = False\n",
        "\n",
        "        rating_tag = items.find(\"div\", {\"class\": \"rating-10\"})\n",
        "        rating = rating_tag.text.strip()[:1] if rating_tag else None\n",
        "\n",
        "        title_tag = items.find(\"h2\")\n",
        "        title = title_tag.text.strip() if title_tag else None\n",
        "\n",
        "        time_tag = items.find(\"h3\").find(\"time\")\n",
        "        review_date = time_tag.text.strip() if time_tag else None\n",
        "\n",
        "        text_block = items.find(\"div\", {\"class\": \"text_content\"}).text\n",
        "        text = text_block.split(\"|\")\n",
        "        if len(text) == 1:\n",
        "            review_text = text[0].strip()\n",
        "        else:\n",
        "            if text[0].strip() == '✅ Trip Verified':\n",
        "                verified = True\n",
        "            review_text = text[1].strip()\n",
        "\n",
        "        # Now, scrape small table\n",
        "        table = items.find(\"table\")\n",
        "        tab = [None]*13  # 13 fields\n",
        "\n",
        "        if table:\n",
        "            for row in table.find_all(\"tr\"):\n",
        "                i = 0\n",
        "                for td in row.find_all(\"td\"):\n",
        "                    if i == 0:\n",
        "                        field_name = td.text.strip()\n",
        "                        try:\n",
        "                            index = columns.index(field_name)\n",
        "                        except:\n",
        "                            index = None\n",
        "                        i = 1\n",
        "                    else:\n",
        "                        if td.find(\"span\") is None:\n",
        "                            value = td.text.strip()\n",
        "                        else:\n",
        "                            value = len(td.find_all(\"span\", {\"class\": \"star fill\"}))\n",
        "                        if index is not None:\n",
        "                            tab[index] = value\n",
        "\n",
        "        # Save data\n",
        "        data = [\"LOT Polish Airlines\", rating, title, review_date, verified, review_text] + tab\n",
        "        reviews.append(data)\n",
        "\n",
        "        # Pause politely\n",
        "        time.sleep(2)\n"
      ],
      "metadata": {
        "id": "z2soOXscBXMX"
      },
      "execution_count": 21,
      "outputs": []
    },
    {
      "cell_type": "code",
      "source": [
        "# --- Create DataFrame ---\n",
        "df = pd.DataFrame(reviews, columns=df_columns)\n",
        "\n",
        "# --- Save to CSV ---\n",
        "df.to_csv(\"LOT_reviews.csv\", index=False)\n"
      ],
      "metadata": {
        "id": "sg0fxU_wFKU9"
      },
      "execution_count": 22,
      "outputs": []
    }
  ]
}
