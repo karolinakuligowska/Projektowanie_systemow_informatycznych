{
  "nbformat": 4,
  "nbformat_minor": 0,
  "metadata": {
    "colab": {
      "provenance": [],
      "authorship_tag": "ABX9TyORag3XWCdqlmx7XH/oCm2v",
      "include_colab_link": true
    },
    "kernelspec": {
      "name": "ir",
      "display_name": "R"
    },
    "language_info": {
      "name": "R"
    }
  },
  "cells": [
    {
      "cell_type": "markdown",
      "metadata": {
        "id": "view-in-github",
        "colab_type": "text"
      },
      "source": [
        "<a href=\"https://colab.research.google.com/github/karolinakuligowska/Projektowanie_systemow_informatycznych/blob/main/PSI_4_Zajecia_Analiza_sentymentu_Slowniki_CSV__Biden.ipynb\" target=\"_parent\"><img src=\"https://colab.research.google.com/assets/colab-badge.svg\" alt=\"Open In Colab\"/></a>"
      ]
    },
    {
      "cell_type": "markdown",
      "source": [
        "# Wymagane pakiety"
      ],
      "metadata": {
        "id": "4EA2MsCfJ27j"
      }
    },
    {
      "cell_type": "code",
      "execution_count": 1,
      "metadata": {
        "colab": {
          "base_uri": "https://localhost:8080/"
        },
        "id": "js6kHlcmJNng",
        "outputId": "c323c0c8-518a-484d-c489-17fc212b1f8c"
      },
      "outputs": [
        {
          "output_type": "stream",
          "name": "stderr",
          "text": [
            "Installing packages into ‘/usr/local/lib/R/site-library’\n",
            "(as ‘lib’ is unspecified)\n",
            "\n",
            "also installing the dependencies ‘SnowballC’, ‘NLP’, ‘slam’, ‘BH’, ‘janeaustenr’, ‘tokenizers’\n",
            "\n",
            "\n"
          ]
        }
      ],
      "source": [
        "install.packages(c(\"tm\", \"tidyverse\", \"tidytext\", \"ggplot2\", \"ggthemes\"))"
      ]
    },
    {
      "cell_type": "code",
      "source": [
        "library(tm)\n",
        "library(tidyverse)\n",
        "library(tidytext)\n",
        "library(ggplot2)\n",
        "library(ggthemes)"
      ],
      "metadata": {
        "colab": {
          "base_uri": "https://localhost:8080/"
        },
        "id": "HxSx4V5QKPsC",
        "outputId": "7cae6546-965d-4b57-8523-75aa2e4a74a5"
      },
      "execution_count": 2,
      "outputs": [
        {
          "output_type": "stream",
          "name": "stderr",
          "text": [
            "Loading required package: NLP\n",
            "\n",
            "── \u001b[1mAttaching core tidyverse packages\u001b[22m ──────────────────────── tidyverse 2.0.0 ──\n",
            "\u001b[32m✔\u001b[39m \u001b[34mdplyr    \u001b[39m 1.1.4     \u001b[32m✔\u001b[39m \u001b[34mreadr    \u001b[39m 2.1.5\n",
            "\u001b[32m✔\u001b[39m \u001b[34mforcats  \u001b[39m 1.0.0     \u001b[32m✔\u001b[39m \u001b[34mstringr  \u001b[39m 1.5.1\n",
            "\u001b[32m✔\u001b[39m \u001b[34mggplot2  \u001b[39m 3.5.1     \u001b[32m✔\u001b[39m \u001b[34mtibble   \u001b[39m 3.2.1\n",
            "\u001b[32m✔\u001b[39m \u001b[34mlubridate\u001b[39m 1.9.4     \u001b[32m✔\u001b[39m \u001b[34mtidyr    \u001b[39m 1.3.1\n",
            "\u001b[32m✔\u001b[39m \u001b[34mpurrr    \u001b[39m 1.0.4     \n",
            "── \u001b[1mConflicts\u001b[22m ────────────────────────────────────────── tidyverse_conflicts() ──\n",
            "\u001b[31m✖\u001b[39m \u001b[34mggplot2\u001b[39m::\u001b[32mannotate()\u001b[39m masks \u001b[34mNLP\u001b[39m::annotate()\n",
            "\u001b[31m✖\u001b[39m \u001b[34mdplyr\u001b[39m::\u001b[32mfilter()\u001b[39m     masks \u001b[34mstats\u001b[39m::filter()\n",
            "\u001b[31m✖\u001b[39m \u001b[34mdplyr\u001b[39m::\u001b[32mlag()\u001b[39m        masks \u001b[34mstats\u001b[39m::lag()\n",
            "\u001b[36mℹ\u001b[39m Use the conflicted package (\u001b[3m\u001b[34m<http://conflicted.r-lib.org/>\u001b[39m\u001b[23m) to force all conflicts to become errors\n"
          ]
        }
      ]
    },
    {
      "cell_type": "markdown",
      "source": [
        "# Wczytaj słowniki z plików csv ----"
      ],
      "metadata": {
        "id": "uqXmf4XyKLbx"
      }
    },
    {
      "cell_type": "code",
      "source": [
        "afinn <- read.csv(\"afinn.csv\", stringsAsFactors = FALSE)\n",
        "bing <- read.csv(\"bing.csv\", stringsAsFactors = FALSE)\n",
        "loughran <- read.csv(\"loughran.csv\", stringsAsFactors = FALSE)\n",
        "nrc <- read.csv(\"nrc.csv\", stringsAsFactors = FALSE)"
      ],
      "metadata": {
        "id": "L2xeCSqnKSU0"
      },
      "execution_count": 3,
      "outputs": []
    },
    {
      "cell_type": "markdown",
      "source": [
        "# Jeden cały plik ----"
      ],
      "metadata": {
        "id": "dwogdDbVKUva"
      }
    },
    {
      "cell_type": "code",
      "source": [
        "# Wczytanie danych tekstowych\n",
        "# Odczytanie lokalnego pliku .txt\n",
        "text <- readLines(\"Biden2024.txt\", encoding=\"UTF-8\")\n",
        "\n",
        "\n",
        "docs <- VCorpus(VectorSource(text))\n",
        "tdm <- TermDocumentMatrix(docs)\n",
        "m <- as.matrix(tdm)\n",
        "v <- sort(rowSums(m), decreasing=TRUE)\n",
        "\n",
        "\n",
        "tokeny <- data.frame(Review = names(v), freq = v, stringsAsFactors = F)\n",
        "tokeny_data <- as_tibble(tokeny)"
      ],
      "metadata": {
        "id": "q8fAOwEIKXry"
      },
      "execution_count": 4,
      "outputs": []
    },
    {
      "cell_type": "markdown",
      "source": [
        "#-----------------------------Przed analizą sentymentu ----"
      ],
      "metadata": {
        "id": "pqB1ClYfKiU0"
      }
    },
    {
      "cell_type": "code",
      "source": [
        "# Tokenizacja tekstu przy użyciu pakietu tidytext\n",
        "# library(tidytext)\n",
        "\n",
        "# Użycie unnest_tokens()\n",
        "tidy_tokeny <- tokeny_data %>%\n",
        "  unnest_tokens(word, Review) # Tworzenie (word) z (Review)\n",
        "\n",
        "# unnest_tokens() wykonuje czyszczenie\n",
        "# Usuwa interpunkcję i białe znaki, zamienia tekst na małe litery itp.\n",
        "# tidy_tokeny\n",
        "head(tidy_tokeny, 10)\n"
      ],
      "metadata": {
        "colab": {
          "base_uri": "https://localhost:8080/",
          "height": 412
        },
        "id": "-gRathyxKjA6",
        "outputId": "15560e74-0710-44a4-891c-827834a80da5"
      },
      "execution_count": 5,
      "outputs": [
        {
          "output_type": "display_data",
          "data": {
            "text/html": [
              "<table class=\"dataframe\">\n",
              "<caption>A tibble: 10 × 2</caption>\n",
              "<thead>\n",
              "\t<tr><th scope=col>freq</th><th scope=col>word</th></tr>\n",
              "\t<tr><th scope=col>&lt;dbl&gt;</th><th scope=col>&lt;chr&gt;</th></tr>\n",
              "</thead>\n",
              "<tbody>\n",
              "\t<tr><td>412</td><td>the </td></tr>\n",
              "\t<tr><td>274</td><td>and </td></tr>\n",
              "\t<tr><td> 81</td><td>that</td></tr>\n",
              "\t<tr><td> 79</td><td>for </td></tr>\n",
              "\t<tr><td> 60</td><td>you </td></tr>\n",
              "\t<tr><td> 46</td><td>not </td></tr>\n",
              "\t<tr><td> 46</td><td>they</td></tr>\n",
              "\t<tr><td> 42</td><td>are </td></tr>\n",
              "\t<tr><td> 42</td><td>with</td></tr>\n",
              "\t<tr><td> 41</td><td>more</td></tr>\n",
              "</tbody>\n",
              "</table>\n"
            ],
            "text/markdown": "\nA tibble: 10 × 2\n\n| freq &lt;dbl&gt; | word &lt;chr&gt; |\n|---|---|\n| 412 | the  |\n| 274 | and  |\n|  81 | that |\n|  79 | for  |\n|  60 | you  |\n|  46 | not  |\n|  46 | they |\n|  42 | are  |\n|  42 | with |\n|  41 | more |\n\n",
            "text/latex": "A tibble: 10 × 2\n\\begin{tabular}{ll}\n freq & word\\\\\n <dbl> & <chr>\\\\\n\\hline\n\t 412 & the \\\\\n\t 274 & and \\\\\n\t  81 & that\\\\\n\t  79 & for \\\\\n\t  60 & you \\\\\n\t  46 & not \\\\\n\t  46 & they\\\\\n\t  42 & are \\\\\n\t  42 & with\\\\\n\t  41 & more\\\\\n\\end{tabular}\n",
            "text/plain": [
              "   freq word\n",
              "1  412  the \n",
              "2  274  and \n",
              "3   81  that\n",
              "4   79  for \n",
              "5   60  you \n",
              "6   46  not \n",
              "7   46  they\n",
              "8   42  are \n",
              "9   42  with\n",
              "10  41  more"
            ]
          },
          "metadata": {}
        }
      ]
    },
    {
      "cell_type": "code",
      "source": [
        "# Najczęściej występujące słowa to: the, it, and, to...\n",
        "# Musimy wykonać dodatkowe czyszczenie\n",
        "# z użyciem listy stopwords\n",
        "\n",
        "# Użycie anti_join()\n",
        "#\n",
        "# Wiersz ramki danych po lewej stronie zostaje zachowany,\n",
        "# jeśli wartość w dopasowanej kolumnie NIE jest\n",
        "# obecna w ramce danych po prawej stronie\n",
        "\n",
        "\n",
        "# Użycie unnest_tokens() z usuwaniem stopwords\n",
        "tidy_tokeny2 <- tokeny_data %>%\n",
        "  unnest_tokens(word, Review) %>%\n",
        "  anti_join(stop_words)\n",
        "\n",
        "# Liczba słów została zmniejszona\n",
        "# tidy_tokeny2\n",
        "head(tidy_tokeny2, 10)\n",
        "\n",
        "# Sprawdzenie najczęściej występujących słów\n",
        "# które rzeczywiście odzwierciedlają treść"
      ],
      "metadata": {
        "colab": {
          "base_uri": "https://localhost:8080/",
          "height": 429
        },
        "id": "vaCIwNL4Kmr_",
        "outputId": "17447110-7e8d-485c-8f8a-4e1f00e92ffd"
      },
      "execution_count": 6,
      "outputs": [
        {
          "output_type": "stream",
          "name": "stderr",
          "text": [
            "\u001b[1m\u001b[22mJoining with `by = join_by(word)`\n"
          ]
        },
        {
          "output_type": "display_data",
          "data": {
            "text/html": [
              "<table class=\"dataframe\">\n",
              "<caption>A tibble: 10 × 2</caption>\n",
              "<thead>\n",
              "\t<tr><th scope=col>freq</th><th scope=col>word</th></tr>\n",
              "\t<tr><th scope=col>&lt;dbl&gt;</th><th scope=col>&lt;chr&gt;</th></tr>\n",
              "</thead>\n",
              "<tbody>\n",
              "\t<tr><td>32</td><td>american </td></tr>\n",
              "\t<tr><td>31</td><td>i’m      </td></tr>\n",
              "\t<tr><td>29</td><td>it’s     </td></tr>\n",
              "\t<tr><td>28</td><td>that’s   </td></tr>\n",
              "\t<tr><td>25</td><td>people   </td></tr>\n",
              "\t<tr><td>23</td><td>president</td></tr>\n",
              "\t<tr><td>22</td><td>america  </td></tr>\n",
              "\t<tr><td>20</td><td>future   </td></tr>\n",
              "\t<tr><td>19</td><td>i’ve     </td></tr>\n",
              "\t<tr><td>19</td><td>pay      </td></tr>\n",
              "</tbody>\n",
              "</table>\n"
            ],
            "text/markdown": "\nA tibble: 10 × 2\n\n| freq &lt;dbl&gt; | word &lt;chr&gt; |\n|---|---|\n| 32 | american  |\n| 31 | i’m       |\n| 29 | it’s      |\n| 28 | that’s    |\n| 25 | people    |\n| 23 | president |\n| 22 | america   |\n| 20 | future    |\n| 19 | i’ve      |\n| 19 | pay       |\n\n",
            "text/latex": "A tibble: 10 × 2\n\\begin{tabular}{ll}\n freq & word\\\\\n <dbl> & <chr>\\\\\n\\hline\n\t 32 & american \\\\\n\t 31 & i’m      \\\\\n\t 29 & it’s     \\\\\n\t 28 & that’s   \\\\\n\t 25 & people   \\\\\n\t 23 & president\\\\\n\t 22 & america  \\\\\n\t 20 & future   \\\\\n\t 19 & i’ve     \\\\\n\t 19 & pay      \\\\\n\\end{tabular}\n",
            "text/plain": [
              "   freq word     \n",
              "1  32   american \n",
              "2  31   i’m      \n",
              "3  29   it’s     \n",
              "4  28   that’s   \n",
              "5  25   people   \n",
              "6  23   president\n",
              "7  22   america  \n",
              "8  20   future   \n",
              "9  19   i’ve     \n",
              "10 19   pay      "
            ]
          },
          "metadata": {}
        }
      ]
    },
    {
      "cell_type": "markdown",
      "source": [
        "# Analiza sentymentu ----"
      ],
      "metadata": {
        "id": "KeNeA1JzKurz"
      }
    },
    {
      "cell_type": "markdown",
      "source": [
        "## Analiza sentymentu przy użyciu słownika Loughran ----"
      ],
      "metadata": {
        "id": "PmtFSlaJKw1o"
      }
    },
    {
      "cell_type": "code",
      "source": [
        "# Użycie inner_join()\n",
        "tidy_tokeny %>%\n",
        "  inner_join(loughran, relationship = \"many-to-many\")\n",
        "# Liczba słów drastycznie się zmniejszyła,\n",
        "# ponieważ inner_join zachował tylko te słowa,\n",
        "# które występowały w słowniku\n",
        "\n",
        "\n",
        "# Zliczanie sentymentu\n",
        "sentiment_review <- tidy_tokeny %>%\n",
        "  inner_join(loughran, relationship = \"many-to-many\")\n",
        "\n",
        "sentiment_review %>%\n",
        "  count(sentiment)\n",
        "\n",
        "# Zliczanie, które słowa są najczęstsze\n",
        "# dla danego sentymentu\n",
        "sentiment_review %>%\n",
        "  count(word, sentiment) %>%\n",
        "  arrange(desc(n))\n",
        "\n",
        "\n",
        "# Filtrowanie analizy sentymentu\n",
        "# i pozostawienie tylko słów\n",
        "# o sentymencie pozytywnym lub negatywnym\n",
        "\n",
        "sentiment_review2 <- sentiment_review %>%\n",
        "  filter(sentiment %in% c(\"positive\", \"negative\"))\n",
        "\n",
        "\n",
        "word_counts <- sentiment_review2 %>%\n",
        "  count(word, sentiment) %>%\n",
        "  group_by(sentiment) %>%\n",
        "  top_n(10, n) %>%\n",
        "  ungroup() %>%\n",
        "  mutate(\n",
        "    word2 = fct_reorder(word, n)\n",
        "  )\n",
        "\n",
        "# Wizualizacja sentymentu\n",
        "ggplot(word_counts, aes(x=word2, y=n, fill=sentiment)) +\n",
        "  geom_col(show.legend=FALSE) +\n",
        "  facet_wrap(~sentiment, scales=\"free\") +\n",
        "  coord_flip() +\n",
        "  labs(x = \"Słowa\", y = \"Liczba\") +\n",
        "  theme_gdocs() +\n",
        "  ggtitle(\"Liczba słów wg sentymentu (Loughran)\") +\n",
        "  scale_fill_manual(values = c(\"firebrick\", \"darkolivegreen4\"))"
      ],
      "metadata": {
        "colab": {
          "base_uri": "https://localhost:8080/",
          "height": 1000
        },
        "id": "u6rFH7UMKpuf",
        "outputId": "86d7f8da-1310-4fe3-f292-e8bc099f4f94"
      },
      "execution_count": 7,
      "outputs": [
        {
          "output_type": "stream",
          "name": "stderr",
          "text": [
            "\u001b[1m\u001b[22mJoining with `by = join_by(word)`\n"
          ]
        },
        {
          "output_type": "display_data",
          "data": {
            "text/html": [
              "<table class=\"dataframe\">\n",
              "<caption>A tibble: 177 × 3</caption>\n",
              "<thead>\n",
              "\t<tr><th scope=col>freq</th><th scope=col>word</th><th scope=col>sentiment</th></tr>\n",
              "\t<tr><th scope=col>&lt;dbl&gt;</th><th scope=col>&lt;chr&gt;</th><th scope=col>&lt;chr&gt;</th></tr>\n",
              "</thead>\n",
              "<tbody>\n",
              "\t<tr><td>13</td><td>cut      </td><td>negative   </td></tr>\n",
              "\t<tr><td>10</td><td>law      </td><td>litigious  </td></tr>\n",
              "\t<tr><td> 8</td><td>good     </td><td>positive   </td></tr>\n",
              "\t<tr><td> 6</td><td>against  </td><td>negative   </td></tr>\n",
              "\t<tr><td> 6</td><td>great    </td><td>positive   </td></tr>\n",
              "\t<tr><td> 5</td><td>able     </td><td>positive   </td></tr>\n",
              "\t<tr><td> 5</td><td>believe  </td><td>uncertainty</td></tr>\n",
              "\t<tr><td> 5</td><td>could    </td><td>uncertainty</td></tr>\n",
              "\t<tr><td> 5</td><td>crisis   </td><td>negative   </td></tr>\n",
              "\t<tr><td> 5</td><td>defend   </td><td>negative   </td></tr>\n",
              "\t<tr><td> 5</td><td>deficit  </td><td>negative   </td></tr>\n",
              "\t<tr><td> 5</td><td>nearly   </td><td>uncertainty</td></tr>\n",
              "\t<tr><td> 5</td><td>violence </td><td>negative   </td></tr>\n",
              "\t<tr><td> 4</td><td>alliance </td><td>positive   </td></tr>\n",
              "\t<tr><td> 4</td><td>assault  </td><td>negative   </td></tr>\n",
              "\t<tr><td> 4</td><td>win      </td><td>positive   </td></tr>\n",
              "\t<tr><td> 3</td><td>antitrust</td><td>negative   </td></tr>\n",
              "\t<tr><td> 3</td><td>antitrust</td><td>litigious  </td></tr>\n",
              "\t<tr><td> 3</td><td>court    </td><td>litigious  </td></tr>\n",
              "\t<tr><td> 3</td><td>laws     </td><td>litigious  </td></tr>\n",
              "\t<tr><td> 3</td><td>stability</td><td>positive   </td></tr>\n",
              "\t<tr><td> 3</td><td>strong   </td><td>positive   </td></tr>\n",
              "\t<tr><td> 3</td><td>stronger </td><td>positive   </td></tr>\n",
              "\t<tr><td> 3</td><td>threat   </td><td>negative   </td></tr>\n",
              "\t<tr><td> 3</td><td>violence </td><td>negative   </td></tr>\n",
              "\t<tr><td> 2</td><td>amendment</td><td>litigious  </td></tr>\n",
              "\t<tr><td> 2</td><td>benefit  </td><td>positive   </td></tr>\n",
              "\t<tr><td> 2</td><td>best     </td><td>positive   </td></tr>\n",
              "\t<tr><td> 2</td><td>breaks   </td><td>negative   </td></tr>\n",
              "\t<tr><td> 2</td><td>burden   </td><td>negative   </td></tr>\n",
              "\t<tr><td>⋮</td><td>⋮</td><td>⋮</td></tr>\n",
              "\t<tr><td>1</td><td>resolve      </td><td>positive   </td></tr>\n",
              "\t<tr><td>1</td><td>retribution  </td><td>negative   </td></tr>\n",
              "\t<tr><td>1</td><td>retribution  </td><td>negative   </td></tr>\n",
              "\t<tr><td>1</td><td>risk         </td><td>uncertainty</td></tr>\n",
              "\t<tr><td>1</td><td>sacrifices   </td><td>negative   </td></tr>\n",
              "\t<tr><td>1</td><td>serious      </td><td>negative   </td></tr>\n",
              "\t<tr><td>1</td><td>setback      </td><td>negative   </td></tr>\n",
              "\t<tr><td>1</td><td>shortage     </td><td>negative   </td></tr>\n",
              "\t<tr><td>1</td><td>sometimes    </td><td>uncertainty</td></tr>\n",
              "\t<tr><td>1</td><td>somewhere    </td><td>uncertainty</td></tr>\n",
              "\t<tr><td>1</td><td>stopped      </td><td>negative   </td></tr>\n",
              "\t<tr><td>1</td><td>stopping     </td><td>negative   </td></tr>\n",
              "\t<tr><td>1</td><td>stronger     </td><td>positive   </td></tr>\n",
              "\t<tr><td>1</td><td>succeeded    </td><td>positive   </td></tr>\n",
              "\t<tr><td>1</td><td>suspect      </td><td>negative   </td></tr>\n",
              "\t<tr><td>1</td><td>threats      </td><td>negative   </td></tr>\n",
              "\t<tr><td>1</td><td>trouble      </td><td>negative   </td></tr>\n",
              "\t<tr><td>1</td><td>unacceptable </td><td>negative   </td></tr>\n",
              "\t<tr><td>1</td><td>underfunded  </td><td>negative   </td></tr>\n",
              "\t<tr><td>1</td><td>unemployment </td><td>negative   </td></tr>\n",
              "\t<tr><td>1</td><td>unfair       </td><td>negative   </td></tr>\n",
              "\t<tr><td>1</td><td>unfortunately</td><td>negative   </td></tr>\n",
              "\t<tr><td>1</td><td>unjustly     </td><td>negative   </td></tr>\n",
              "\t<tr><td>1</td><td>violates     </td><td>negative   </td></tr>\n",
              "\t<tr><td>1</td><td>violent      </td><td>negative   </td></tr>\n",
              "\t<tr><td>1</td><td>whatever     </td><td>litigious  </td></tr>\n",
              "\t<tr><td>1</td><td>win          </td><td>positive   </td></tr>\n",
              "\t<tr><td>1</td><td>winner       </td><td>positive   </td></tr>\n",
              "\t<tr><td>1</td><td>wrong        </td><td>negative   </td></tr>\n",
              "\t<tr><td>1</td><td>wrong        </td><td>negative   </td></tr>\n",
              "</tbody>\n",
              "</table>\n"
            ],
            "text/markdown": "\nA tibble: 177 × 3\n\n| freq &lt;dbl&gt; | word &lt;chr&gt; | sentiment &lt;chr&gt; |\n|---|---|---|\n| 13 | cut       | negative    |\n| 10 | law       | litigious   |\n|  8 | good      | positive    |\n|  6 | against   | negative    |\n|  6 | great     | positive    |\n|  5 | able      | positive    |\n|  5 | believe   | uncertainty |\n|  5 | could     | uncertainty |\n|  5 | crisis    | negative    |\n|  5 | defend    | negative    |\n|  5 | deficit   | negative    |\n|  5 | nearly    | uncertainty |\n|  5 | violence  | negative    |\n|  4 | alliance  | positive    |\n|  4 | assault   | negative    |\n|  4 | win       | positive    |\n|  3 | antitrust | negative    |\n|  3 | antitrust | litigious   |\n|  3 | court     | litigious   |\n|  3 | laws      | litigious   |\n|  3 | stability | positive    |\n|  3 | strong    | positive    |\n|  3 | stronger  | positive    |\n|  3 | threat    | negative    |\n|  3 | violence  | negative    |\n|  2 | amendment | litigious   |\n|  2 | benefit   | positive    |\n|  2 | best      | positive    |\n|  2 | breaks    | negative    |\n|  2 | burden    | negative    |\n| ⋮ | ⋮ | ⋮ |\n| 1 | resolve       | positive    |\n| 1 | retribution   | negative    |\n| 1 | retribution   | negative    |\n| 1 | risk          | uncertainty |\n| 1 | sacrifices    | negative    |\n| 1 | serious       | negative    |\n| 1 | setback       | negative    |\n| 1 | shortage      | negative    |\n| 1 | sometimes     | uncertainty |\n| 1 | somewhere     | uncertainty |\n| 1 | stopped       | negative    |\n| 1 | stopping      | negative    |\n| 1 | stronger      | positive    |\n| 1 | succeeded     | positive    |\n| 1 | suspect       | negative    |\n| 1 | threats       | negative    |\n| 1 | trouble       | negative    |\n| 1 | unacceptable  | negative    |\n| 1 | underfunded   | negative    |\n| 1 | unemployment  | negative    |\n| 1 | unfair        | negative    |\n| 1 | unfortunately | negative    |\n| 1 | unjustly      | negative    |\n| 1 | violates      | negative    |\n| 1 | violent       | negative    |\n| 1 | whatever      | litigious   |\n| 1 | win           | positive    |\n| 1 | winner        | positive    |\n| 1 | wrong         | negative    |\n| 1 | wrong         | negative    |\n\n",
            "text/latex": "A tibble: 177 × 3\n\\begin{tabular}{lll}\n freq & word & sentiment\\\\\n <dbl> & <chr> & <chr>\\\\\n\\hline\n\t 13 & cut       & negative   \\\\\n\t 10 & law       & litigious  \\\\\n\t  8 & good      & positive   \\\\\n\t  6 & against   & negative   \\\\\n\t  6 & great     & positive   \\\\\n\t  5 & able      & positive   \\\\\n\t  5 & believe   & uncertainty\\\\\n\t  5 & could     & uncertainty\\\\\n\t  5 & crisis    & negative   \\\\\n\t  5 & defend    & negative   \\\\\n\t  5 & deficit   & negative   \\\\\n\t  5 & nearly    & uncertainty\\\\\n\t  5 & violence  & negative   \\\\\n\t  4 & alliance  & positive   \\\\\n\t  4 & assault   & negative   \\\\\n\t  4 & win       & positive   \\\\\n\t  3 & antitrust & negative   \\\\\n\t  3 & antitrust & litigious  \\\\\n\t  3 & court     & litigious  \\\\\n\t  3 & laws      & litigious  \\\\\n\t  3 & stability & positive   \\\\\n\t  3 & strong    & positive   \\\\\n\t  3 & stronger  & positive   \\\\\n\t  3 & threat    & negative   \\\\\n\t  3 & violence  & negative   \\\\\n\t  2 & amendment & litigious  \\\\\n\t  2 & benefit   & positive   \\\\\n\t  2 & best      & positive   \\\\\n\t  2 & breaks    & negative   \\\\\n\t  2 & burden    & negative   \\\\\n\t ⋮ & ⋮ & ⋮\\\\\n\t 1 & resolve       & positive   \\\\\n\t 1 & retribution   & negative   \\\\\n\t 1 & retribution   & negative   \\\\\n\t 1 & risk          & uncertainty\\\\\n\t 1 & sacrifices    & negative   \\\\\n\t 1 & serious       & negative   \\\\\n\t 1 & setback       & negative   \\\\\n\t 1 & shortage      & negative   \\\\\n\t 1 & sometimes     & uncertainty\\\\\n\t 1 & somewhere     & uncertainty\\\\\n\t 1 & stopped       & negative   \\\\\n\t 1 & stopping      & negative   \\\\\n\t 1 & stronger      & positive   \\\\\n\t 1 & succeeded     & positive   \\\\\n\t 1 & suspect       & negative   \\\\\n\t 1 & threats       & negative   \\\\\n\t 1 & trouble       & negative   \\\\\n\t 1 & unacceptable  & negative   \\\\\n\t 1 & underfunded   & negative   \\\\\n\t 1 & unemployment  & negative   \\\\\n\t 1 & unfair        & negative   \\\\\n\t 1 & unfortunately & negative   \\\\\n\t 1 & unjustly      & negative   \\\\\n\t 1 & violates      & negative   \\\\\n\t 1 & violent       & negative   \\\\\n\t 1 & whatever      & litigious  \\\\\n\t 1 & win           & positive   \\\\\n\t 1 & winner        & positive   \\\\\n\t 1 & wrong         & negative   \\\\\n\t 1 & wrong         & negative   \\\\\n\\end{tabular}\n",
            "text/plain": [
              "    freq word          sentiment  \n",
              "1   13   cut           negative   \n",
              "2   10   law           litigious  \n",
              "3    8   good          positive   \n",
              "4    6   against       negative   \n",
              "5    6   great         positive   \n",
              "6    5   able          positive   \n",
              "7    5   believe       uncertainty\n",
              "8    5   could         uncertainty\n",
              "9    5   crisis        negative   \n",
              "10   5   defend        negative   \n",
              "11   5   deficit       negative   \n",
              "12   5   nearly        uncertainty\n",
              "13   5   violence      negative   \n",
              "14   4   alliance      positive   \n",
              "15   4   assault       negative   \n",
              "16   4   win           positive   \n",
              "17   3   antitrust     negative   \n",
              "18   3   antitrust     litigious  \n",
              "19   3   court         litigious  \n",
              "20   3   laws          litigious  \n",
              "21   3   stability     positive   \n",
              "22   3   strong        positive   \n",
              "23   3   stronger      positive   \n",
              "24   3   threat        negative   \n",
              "25   3   violence      negative   \n",
              "26   2   amendment     litigious  \n",
              "27   2   benefit       positive   \n",
              "28   2   best          positive   \n",
              "29   2   breaks        negative   \n",
              "30   2   burden        negative   \n",
              "⋮   ⋮    ⋮             ⋮          \n",
              "148 1    resolve       positive   \n",
              "149 1    retribution   negative   \n",
              "150 1    retribution   negative   \n",
              "151 1    risk          uncertainty\n",
              "152 1    sacrifices    negative   \n",
              "153 1    serious       negative   \n",
              "154 1    setback       negative   \n",
              "155 1    shortage      negative   \n",
              "156 1    sometimes     uncertainty\n",
              "157 1    somewhere     uncertainty\n",
              "158 1    stopped       negative   \n",
              "159 1    stopping      negative   \n",
              "160 1    stronger      positive   \n",
              "161 1    succeeded     positive   \n",
              "162 1    suspect       negative   \n",
              "163 1    threats       negative   \n",
              "164 1    trouble       negative   \n",
              "165 1    unacceptable  negative   \n",
              "166 1    underfunded   negative   \n",
              "167 1    unemployment  negative   \n",
              "168 1    unfair        negative   \n",
              "169 1    unfortunately negative   \n",
              "170 1    unjustly      negative   \n",
              "171 1    violates      negative   \n",
              "172 1    violent       negative   \n",
              "173 1    whatever      litigious  \n",
              "174 1    win           positive   \n",
              "175 1    winner        positive   \n",
              "176 1    wrong         negative   \n",
              "177 1    wrong         negative   "
            ]
          },
          "metadata": {}
        },
        {
          "output_type": "stream",
          "name": "stderr",
          "text": [
            "\u001b[1m\u001b[22mJoining with `by = join_by(word)`\n"
          ]
        },
        {
          "output_type": "display_data",
          "data": {
            "text/html": [
              "<table class=\"dataframe\">\n",
              "<caption>A tibble: 5 × 2</caption>\n",
              "<thead>\n",
              "\t<tr><th scope=col>sentiment</th><th scope=col>n</th></tr>\n",
              "\t<tr><th scope=col>&lt;chr&gt;</th><th scope=col>&lt;int&gt;</th></tr>\n",
              "</thead>\n",
              "<tbody>\n",
              "\t<tr><td>constraining</td><td> 5</td></tr>\n",
              "\t<tr><td>litigious   </td><td>18</td></tr>\n",
              "\t<tr><td>negative    </td><td>96</td></tr>\n",
              "\t<tr><td>positive    </td><td>39</td></tr>\n",
              "\t<tr><td>uncertainty </td><td>19</td></tr>\n",
              "</tbody>\n",
              "</table>\n"
            ],
            "text/markdown": "\nA tibble: 5 × 2\n\n| sentiment &lt;chr&gt; | n &lt;int&gt; |\n|---|---|\n| constraining |  5 |\n| litigious    | 18 |\n| negative     | 96 |\n| positive     | 39 |\n| uncertainty  | 19 |\n\n",
            "text/latex": "A tibble: 5 × 2\n\\begin{tabular}{ll}\n sentiment & n\\\\\n <chr> & <int>\\\\\n\\hline\n\t constraining &  5\\\\\n\t litigious    & 18\\\\\n\t negative     & 96\\\\\n\t positive     & 39\\\\\n\t uncertainty  & 19\\\\\n\\end{tabular}\n",
            "text/plain": [
              "  sentiment    n \n",
              "1 constraining  5\n",
              "2 litigious    18\n",
              "3 negative     96\n",
              "4 positive     39\n",
              "5 uncertainty  19"
            ]
          },
          "metadata": {}
        },
        {
          "output_type": "display_data",
          "data": {
            "text/html": [
              "<table class=\"dataframe\">\n",
              "<caption>A tibble: 144 × 3</caption>\n",
              "<thead>\n",
              "\t<tr><th scope=col>word</th><th scope=col>sentiment</th><th scope=col>n</th></tr>\n",
              "\t<tr><th scope=col>&lt;chr&gt;</th><th scope=col>&lt;chr&gt;</th><th scope=col>&lt;int&gt;</th></tr>\n",
              "</thead>\n",
              "<tbody>\n",
              "\t<tr><td>against      </td><td>negative   </td><td>3</td></tr>\n",
              "\t<tr><td>crisis       </td><td>negative   </td><td>3</td></tr>\n",
              "\t<tr><td>great        </td><td>positive   </td><td>3</td></tr>\n",
              "\t<tr><td>law          </td><td>litigious  </td><td>3</td></tr>\n",
              "\t<tr><td>optimistic   </td><td>positive   </td><td>3</td></tr>\n",
              "\t<tr><td>possibilities</td><td>uncertainty</td><td>3</td></tr>\n",
              "\t<tr><td>risk         </td><td>uncertainty</td><td>3</td></tr>\n",
              "\t<tr><td>best         </td><td>positive   </td><td>2</td></tr>\n",
              "\t<tr><td>better       </td><td>positive   </td><td>2</td></tr>\n",
              "\t<tr><td>break        </td><td>negative   </td><td>2</td></tr>\n",
              "\t<tr><td>breaks       </td><td>negative   </td><td>2</td></tr>\n",
              "\t<tr><td>conflict     </td><td>negative   </td><td>2</td></tr>\n",
              "\t<tr><td>crime        </td><td>litigious  </td><td>2</td></tr>\n",
              "\t<tr><td>crime        </td><td>negative   </td><td>2</td></tr>\n",
              "\t<tr><td>cut          </td><td>negative   </td><td>2</td></tr>\n",
              "\t<tr><td>deficit      </td><td>negative   </td><td>2</td></tr>\n",
              "\t<tr><td>failed       </td><td>negative   </td><td>2</td></tr>\n",
              "\t<tr><td>good         </td><td>positive   </td><td>2</td></tr>\n",
              "\t<tr><td>leadership   </td><td>positive   </td><td>2</td></tr>\n",
              "\t<tr><td>overturned   </td><td>negative   </td><td>2</td></tr>\n",
              "\t<tr><td>probably     </td><td>uncertainty</td><td>2</td></tr>\n",
              "\t<tr><td>retribution  </td><td>negative   </td><td>2</td></tr>\n",
              "\t<tr><td>stronger     </td><td>positive   </td><td>2</td></tr>\n",
              "\t<tr><td>violence     </td><td>negative   </td><td>2</td></tr>\n",
              "\t<tr><td>win          </td><td>positive   </td><td>2</td></tr>\n",
              "\t<tr><td>wrong        </td><td>negative   </td><td>2</td></tr>\n",
              "\t<tr><td>able         </td><td>positive   </td><td>1</td></tr>\n",
              "\t<tr><td>accident     </td><td>negative   </td><td>1</td></tr>\n",
              "\t<tr><td>alliance     </td><td>positive   </td><td>1</td></tr>\n",
              "\t<tr><td>almost       </td><td>uncertainty</td><td>1</td></tr>\n",
              "\t<tr><td>⋮</td><td>⋮</td><td>⋮</td></tr>\n",
              "\t<tr><td>serious      </td><td>negative   </td><td>1</td></tr>\n",
              "\t<tr><td>setback      </td><td>negative   </td><td>1</td></tr>\n",
              "\t<tr><td>shortage     </td><td>negative   </td><td>1</td></tr>\n",
              "\t<tr><td>shut         </td><td>negative   </td><td>1</td></tr>\n",
              "\t<tr><td>shutting     </td><td>negative   </td><td>1</td></tr>\n",
              "\t<tr><td>sometimes    </td><td>uncertainty</td><td>1</td></tr>\n",
              "\t<tr><td>somewhere    </td><td>uncertainty</td><td>1</td></tr>\n",
              "\t<tr><td>stability    </td><td>positive   </td><td>1</td></tr>\n",
              "\t<tr><td>stopped      </td><td>negative   </td><td>1</td></tr>\n",
              "\t<tr><td>stopping     </td><td>negative   </td><td>1</td></tr>\n",
              "\t<tr><td>strengthen   </td><td>positive   </td><td>1</td></tr>\n",
              "\t<tr><td>strong       </td><td>positive   </td><td>1</td></tr>\n",
              "\t<tr><td>strongest    </td><td>positive   </td><td>1</td></tr>\n",
              "\t<tr><td>succeeded    </td><td>positive   </td><td>1</td></tr>\n",
              "\t<tr><td>suggest      </td><td>uncertainty</td><td>1</td></tr>\n",
              "\t<tr><td>suspect      </td><td>negative   </td><td>1</td></tr>\n",
              "\t<tr><td>threat       </td><td>negative   </td><td>1</td></tr>\n",
              "\t<tr><td>threats      </td><td>negative   </td><td>1</td></tr>\n",
              "\t<tr><td>trouble      </td><td>negative   </td><td>1</td></tr>\n",
              "\t<tr><td>unacceptable </td><td>negative   </td><td>1</td></tr>\n",
              "\t<tr><td>underfunded  </td><td>negative   </td><td>1</td></tr>\n",
              "\t<tr><td>unemployment </td><td>negative   </td><td>1</td></tr>\n",
              "\t<tr><td>unfair       </td><td>negative   </td><td>1</td></tr>\n",
              "\t<tr><td>unfortunately</td><td>negative   </td><td>1</td></tr>\n",
              "\t<tr><td>unjustly     </td><td>negative   </td><td>1</td></tr>\n",
              "\t<tr><td>violates     </td><td>negative   </td><td>1</td></tr>\n",
              "\t<tr><td>violent      </td><td>negative   </td><td>1</td></tr>\n",
              "\t<tr><td>whatever     </td><td>litigious  </td><td>1</td></tr>\n",
              "\t<tr><td>winner       </td><td>positive   </td><td>1</td></tr>\n",
              "\t<tr><td>worst        </td><td>negative   </td><td>1</td></tr>\n",
              "</tbody>\n",
              "</table>\n"
            ],
            "text/markdown": "\nA tibble: 144 × 3\n\n| word &lt;chr&gt; | sentiment &lt;chr&gt; | n &lt;int&gt; |\n|---|---|---|\n| against       | negative    | 3 |\n| crisis        | negative    | 3 |\n| great         | positive    | 3 |\n| law           | litigious   | 3 |\n| optimistic    | positive    | 3 |\n| possibilities | uncertainty | 3 |\n| risk          | uncertainty | 3 |\n| best          | positive    | 2 |\n| better        | positive    | 2 |\n| break         | negative    | 2 |\n| breaks        | negative    | 2 |\n| conflict      | negative    | 2 |\n| crime         | litigious   | 2 |\n| crime         | negative    | 2 |\n| cut           | negative    | 2 |\n| deficit       | negative    | 2 |\n| failed        | negative    | 2 |\n| good          | positive    | 2 |\n| leadership    | positive    | 2 |\n| overturned    | negative    | 2 |\n| probably      | uncertainty | 2 |\n| retribution   | negative    | 2 |\n| stronger      | positive    | 2 |\n| violence      | negative    | 2 |\n| win           | positive    | 2 |\n| wrong         | negative    | 2 |\n| able          | positive    | 1 |\n| accident      | negative    | 1 |\n| alliance      | positive    | 1 |\n| almost        | uncertainty | 1 |\n| ⋮ | ⋮ | ⋮ |\n| serious       | negative    | 1 |\n| setback       | negative    | 1 |\n| shortage      | negative    | 1 |\n| shut          | negative    | 1 |\n| shutting      | negative    | 1 |\n| sometimes     | uncertainty | 1 |\n| somewhere     | uncertainty | 1 |\n| stability     | positive    | 1 |\n| stopped       | negative    | 1 |\n| stopping      | negative    | 1 |\n| strengthen    | positive    | 1 |\n| strong        | positive    | 1 |\n| strongest     | positive    | 1 |\n| succeeded     | positive    | 1 |\n| suggest       | uncertainty | 1 |\n| suspect       | negative    | 1 |\n| threat        | negative    | 1 |\n| threats       | negative    | 1 |\n| trouble       | negative    | 1 |\n| unacceptable  | negative    | 1 |\n| underfunded   | negative    | 1 |\n| unemployment  | negative    | 1 |\n| unfair        | negative    | 1 |\n| unfortunately | negative    | 1 |\n| unjustly      | negative    | 1 |\n| violates      | negative    | 1 |\n| violent       | negative    | 1 |\n| whatever      | litigious   | 1 |\n| winner        | positive    | 1 |\n| worst         | negative    | 1 |\n\n",
            "text/latex": "A tibble: 144 × 3\n\\begin{tabular}{lll}\n word & sentiment & n\\\\\n <chr> & <chr> & <int>\\\\\n\\hline\n\t against       & negative    & 3\\\\\n\t crisis        & negative    & 3\\\\\n\t great         & positive    & 3\\\\\n\t law           & litigious   & 3\\\\\n\t optimistic    & positive    & 3\\\\\n\t possibilities & uncertainty & 3\\\\\n\t risk          & uncertainty & 3\\\\\n\t best          & positive    & 2\\\\\n\t better        & positive    & 2\\\\\n\t break         & negative    & 2\\\\\n\t breaks        & negative    & 2\\\\\n\t conflict      & negative    & 2\\\\\n\t crime         & litigious   & 2\\\\\n\t crime         & negative    & 2\\\\\n\t cut           & negative    & 2\\\\\n\t deficit       & negative    & 2\\\\\n\t failed        & negative    & 2\\\\\n\t good          & positive    & 2\\\\\n\t leadership    & positive    & 2\\\\\n\t overturned    & negative    & 2\\\\\n\t probably      & uncertainty & 2\\\\\n\t retribution   & negative    & 2\\\\\n\t stronger      & positive    & 2\\\\\n\t violence      & negative    & 2\\\\\n\t win           & positive    & 2\\\\\n\t wrong         & negative    & 2\\\\\n\t able          & positive    & 1\\\\\n\t accident      & negative    & 1\\\\\n\t alliance      & positive    & 1\\\\\n\t almost        & uncertainty & 1\\\\\n\t ⋮ & ⋮ & ⋮\\\\\n\t serious       & negative    & 1\\\\\n\t setback       & negative    & 1\\\\\n\t shortage      & negative    & 1\\\\\n\t shut          & negative    & 1\\\\\n\t shutting      & negative    & 1\\\\\n\t sometimes     & uncertainty & 1\\\\\n\t somewhere     & uncertainty & 1\\\\\n\t stability     & positive    & 1\\\\\n\t stopped       & negative    & 1\\\\\n\t stopping      & negative    & 1\\\\\n\t strengthen    & positive    & 1\\\\\n\t strong        & positive    & 1\\\\\n\t strongest     & positive    & 1\\\\\n\t succeeded     & positive    & 1\\\\\n\t suggest       & uncertainty & 1\\\\\n\t suspect       & negative    & 1\\\\\n\t threat        & negative    & 1\\\\\n\t threats       & negative    & 1\\\\\n\t trouble       & negative    & 1\\\\\n\t unacceptable  & negative    & 1\\\\\n\t underfunded   & negative    & 1\\\\\n\t unemployment  & negative    & 1\\\\\n\t unfair        & negative    & 1\\\\\n\t unfortunately & negative    & 1\\\\\n\t unjustly      & negative    & 1\\\\\n\t violates      & negative    & 1\\\\\n\t violent       & negative    & 1\\\\\n\t whatever      & litigious   & 1\\\\\n\t winner        & positive    & 1\\\\\n\t worst         & negative    & 1\\\\\n\\end{tabular}\n",
            "text/plain": [
              "    word          sentiment   n\n",
              "1   against       negative    3\n",
              "2   crisis        negative    3\n",
              "3   great         positive    3\n",
              "4   law           litigious   3\n",
              "5   optimistic    positive    3\n",
              "6   possibilities uncertainty 3\n",
              "7   risk          uncertainty 3\n",
              "8   best          positive    2\n",
              "9   better        positive    2\n",
              "10  break         negative    2\n",
              "11  breaks        negative    2\n",
              "12  conflict      negative    2\n",
              "13  crime         litigious   2\n",
              "14  crime         negative    2\n",
              "15  cut           negative    2\n",
              "16  deficit       negative    2\n",
              "17  failed        negative    2\n",
              "18  good          positive    2\n",
              "19  leadership    positive    2\n",
              "20  overturned    negative    2\n",
              "21  probably      uncertainty 2\n",
              "22  retribution   negative    2\n",
              "23  stronger      positive    2\n",
              "24  violence      negative    2\n",
              "25  win           positive    2\n",
              "26  wrong         negative    2\n",
              "27  able          positive    1\n",
              "28  accident      negative    1\n",
              "29  alliance      positive    1\n",
              "30  almost        uncertainty 1\n",
              "⋮   ⋮             ⋮           ⋮\n",
              "115 serious       negative    1\n",
              "116 setback       negative    1\n",
              "117 shortage      negative    1\n",
              "118 shut          negative    1\n",
              "119 shutting      negative    1\n",
              "120 sometimes     uncertainty 1\n",
              "121 somewhere     uncertainty 1\n",
              "122 stability     positive    1\n",
              "123 stopped       negative    1\n",
              "124 stopping      negative    1\n",
              "125 strengthen    positive    1\n",
              "126 strong        positive    1\n",
              "127 strongest     positive    1\n",
              "128 succeeded     positive    1\n",
              "129 suggest       uncertainty 1\n",
              "130 suspect       negative    1\n",
              "131 threat        negative    1\n",
              "132 threats       negative    1\n",
              "133 trouble       negative    1\n",
              "134 unacceptable  negative    1\n",
              "135 underfunded   negative    1\n",
              "136 unemployment  negative    1\n",
              "137 unfair        negative    1\n",
              "138 unfortunately negative    1\n",
              "139 unjustly      negative    1\n",
              "140 violates      negative    1\n",
              "141 violent       negative    1\n",
              "142 whatever      litigious   1\n",
              "143 winner        positive    1\n",
              "144 worst         negative    1"
            ]
          },
          "metadata": {}
        },
        {
          "output_type": "display_data",
          "data": {
            "text/plain": [
              "plot without title"
            ],
            "image/png": "[encoded data removed]"
          },
          "metadata": {
            "image/png": {
              "width": 420,
              "height": 420
            }
          }
        }
      ]
    },
    {
      "cell_type": "markdown",
      "source": [
        "## Analiza sentymentu przy użyciu słownika NRC ----"
      ],
      "metadata": {
        "id": "DTaJk4_vK6yB"
      }
    },
    {
      "cell_type": "code",
      "source": [
        "# Zliczanie sentymentu\n",
        "sentiment_review_nrc <- tidy_tokeny %>%\n",
        "  inner_join(nrc, relationship = \"many-to-many\")\n",
        "\n",
        "sentiment_review_nrc %>%\n",
        "  count(sentiment)\n",
        "\n",
        "# Zliczanie, które słowa są najczęstsze\n",
        "# dla danego sentymentu\n",
        "sentiment_review_nrc %>%\n",
        "  count(word, sentiment) %>%\n",
        "  arrange(desc(n))\n",
        "\n",
        "\n",
        "# Filtrowanie analizy sentymentu\n",
        "# i pozostawienie tylko słów\n",
        "# o sentymencie pozytywnym lub negatywnym\n",
        "\n",
        "sentiment_review_nrc2 <- sentiment_review_nrc %>%\n",
        "  filter(sentiment %in% c(\"positive\", \"negative\"))\n",
        "\n",
        "\n",
        "word_counts_nrc2 <- sentiment_review_nrc2 %>%\n",
        "  count(word, sentiment) %>%\n",
        "  group_by(sentiment) %>%\n",
        "  top_n(10, n) %>%\n",
        "  ungroup() %>%\n",
        "  mutate(\n",
        "    word2 = fct_reorder(word, n)\n",
        "  )\n",
        "\n",
        "# Wizualizacja sentymentu\n",
        "ggplot(word_counts_nrc2, aes(x=word2, y=n, fill=sentiment)) +\n",
        "  geom_col(show.legend=FALSE) +\n",
        "  facet_wrap(~sentiment, scales=\"free\") +\n",
        "  coord_flip() +\n",
        "  labs(x = \"Słowa\", y = \"Liczba\") +\n",
        "  theme_gdocs() +\n",
        "  ggtitle(\"Liczba słów wg sentymentu (NRC)\")"
      ],
      "metadata": {
        "colab": {
          "base_uri": "https://localhost:8080/",
          "height": 1000
        },
        "id": "oMZzGYKPLAsb",
        "outputId": "9ccb3304-fa09-4e69-f10a-621c90e14b26"
      },
      "execution_count": 8,
      "outputs": [
        {
          "output_type": "stream",
          "name": "stderr",
          "text": [
            "\u001b[1m\u001b[22mJoining with `by = join_by(word)`\n"
          ]
        },
        {
          "output_type": "display_data",
          "data": {
            "text/html": [
              "<table class=\"dataframe\">\n",
              "<caption>A tibble: 10 × 2</caption>\n",
              "<thead>\n",
              "\t<tr><th scope=col>sentiment</th><th scope=col>n</th></tr>\n",
              "\t<tr><th scope=col>&lt;chr&gt;</th><th scope=col>&lt;int&gt;</th></tr>\n",
              "</thead>\n",
              "<tbody>\n",
              "\t<tr><td>anger       </td><td> 85</td></tr>\n",
              "\t<tr><td>anticipation</td><td> 99</td></tr>\n",
              "\t<tr><td>disgust     </td><td> 47</td></tr>\n",
              "\t<tr><td>fear        </td><td>100</td></tr>\n",
              "\t<tr><td>joy         </td><td> 81</td></tr>\n",
              "\t<tr><td>negative    </td><td>174</td></tr>\n",
              "\t<tr><td>positive    </td><td>245</td></tr>\n",
              "\t<tr><td>sadness     </td><td> 89</td></tr>\n",
              "\t<tr><td>surprise    </td><td> 50</td></tr>\n",
              "\t<tr><td>trust       </td><td>160</td></tr>\n",
              "</tbody>\n",
              "</table>\n"
            ],
            "text/markdown": "\nA tibble: 10 × 2\n\n| sentiment &lt;chr&gt; | n &lt;int&gt; |\n|---|---|\n| anger        |  85 |\n| anticipation |  99 |\n| disgust      |  47 |\n| fear         | 100 |\n| joy          |  81 |\n| negative     | 174 |\n| positive     | 245 |\n| sadness      |  89 |\n| surprise     |  50 |\n| trust        | 160 |\n\n",
            "text/latex": "A tibble: 10 × 2\n\\begin{tabular}{ll}\n sentiment & n\\\\\n <chr> & <int>\\\\\n\\hline\n\t anger        &  85\\\\\n\t anticipation &  99\\\\\n\t disgust      &  47\\\\\n\t fear         & 100\\\\\n\t joy          &  81\\\\\n\t negative     & 174\\\\\n\t positive     & 245\\\\\n\t sadness      &  89\\\\\n\t surprise     &  50\\\\\n\t trust        & 160\\\\\n\\end{tabular}\n",
            "text/plain": [
              "   sentiment    n  \n",
              "1  anger         85\n",
              "2  anticipation  99\n",
              "3  disgust       47\n",
              "4  fear         100\n",
              "5  joy           81\n",
              "6  negative     174\n",
              "7  positive     245\n",
              "8  sadness       89\n",
              "9  surprise      50\n",
              "10 trust        160"
            ]
          },
          "metadata": {}
        },
        {
          "output_type": "display_data",
          "data": {
            "text/html": [
              "<table class=\"dataframe\">\n",
              "<caption>A tibble: 924 × 3</caption>\n",
              "<thead>\n",
              "\t<tr><th scope=col>word</th><th scope=col>sentiment</th><th scope=col>n</th></tr>\n",
              "\t<tr><th scope=col>&lt;chr&gt;</th><th scope=col>&lt;chr&gt;</th><th scope=col>&lt;int&gt;</th></tr>\n",
              "</thead>\n",
              "<tbody>\n",
              "\t<tr><td>congress </td><td>disgust     </td><td>4</td></tr>\n",
              "\t<tr><td>congress </td><td>trust       </td><td>4</td></tr>\n",
              "\t<tr><td>president</td><td>positive    </td><td>4</td></tr>\n",
              "\t<tr><td>president</td><td>trust       </td><td>4</td></tr>\n",
              "\t<tr><td>time     </td><td>anticipation</td><td>4</td></tr>\n",
              "\t<tr><td>career   </td><td>anticipation</td><td>3</td></tr>\n",
              "\t<tr><td>career   </td><td>positive    </td><td>3</td></tr>\n",
              "\t<tr><td>crisis   </td><td>negative    </td><td>3</td></tr>\n",
              "\t<tr><td>democracy</td><td>positive    </td><td>3</td></tr>\n",
              "\t<tr><td>dignity  </td><td>positive    </td><td>3</td></tr>\n",
              "\t<tr><td>dignity  </td><td>trust       </td><td>3</td></tr>\n",
              "\t<tr><td>educated </td><td>positive    </td><td>3</td></tr>\n",
              "\t<tr><td>fair     </td><td>positive    </td><td>3</td></tr>\n",
              "\t<tr><td>law      </td><td>trust       </td><td>3</td></tr>\n",
              "\t<tr><td>money    </td><td>anger       </td><td>3</td></tr>\n",
              "\t<tr><td>money    </td><td>anticipation</td><td>3</td></tr>\n",
              "\t<tr><td>money    </td><td>joy         </td><td>3</td></tr>\n",
              "\t<tr><td>money    </td><td>positive    </td><td>3</td></tr>\n",
              "\t<tr><td>money    </td><td>surprise    </td><td>3</td></tr>\n",
              "\t<tr><td>money    </td><td>trust       </td><td>3</td></tr>\n",
              "\t<tr><td>nation   </td><td>trust       </td><td>3</td></tr>\n",
              "\t<tr><td>plan     </td><td>anticipation</td><td>3</td></tr>\n",
              "\t<tr><td>risk     </td><td>anticipation</td><td>3</td></tr>\n",
              "\t<tr><td>risk     </td><td>fear        </td><td>3</td></tr>\n",
              "\t<tr><td>risk     </td><td>negative    </td><td>3</td></tr>\n",
              "\t<tr><td>working  </td><td>positive    </td><td>3</td></tr>\n",
              "\t<tr><td>break    </td><td>surprise    </td><td>2</td></tr>\n",
              "\t<tr><td>cancer   </td><td>anger       </td><td>2</td></tr>\n",
              "\t<tr><td>cancer   </td><td>disgust     </td><td>2</td></tr>\n",
              "\t<tr><td>cancer   </td><td>fear        </td><td>2</td></tr>\n",
              "\t<tr><td>⋮</td><td>⋮</td><td>⋮</td></tr>\n",
              "\t<tr><td>unprecedented</td><td>surprise    </td><td>1</td></tr>\n",
              "\t<tr><td>vaccine      </td><td>positive    </td><td>1</td></tr>\n",
              "\t<tr><td>vice         </td><td>negative    </td><td>1</td></tr>\n",
              "\t<tr><td>violent      </td><td>anger       </td><td>1</td></tr>\n",
              "\t<tr><td>violent      </td><td>disgust     </td><td>1</td></tr>\n",
              "\t<tr><td>violent      </td><td>fear        </td><td>1</td></tr>\n",
              "\t<tr><td>violent      </td><td>negative    </td><td>1</td></tr>\n",
              "\t<tr><td>violent      </td><td>surprise    </td><td>1</td></tr>\n",
              "\t<tr><td>virus        </td><td>negative    </td><td>1</td></tr>\n",
              "\t<tr><td>vision       </td><td>anticipation</td><td>1</td></tr>\n",
              "\t<tr><td>vision       </td><td>positive    </td><td>1</td></tr>\n",
              "\t<tr><td>visit        </td><td>positive    </td><td>1</td></tr>\n",
              "\t<tr><td>wages        </td><td>joy         </td><td>1</td></tr>\n",
              "\t<tr><td>wages        </td><td>positive    </td><td>1</td></tr>\n",
              "\t<tr><td>wait         </td><td>anticipation</td><td>1</td></tr>\n",
              "\t<tr><td>wait         </td><td>negative    </td><td>1</td></tr>\n",
              "\t<tr><td>watch        </td><td>anticipation</td><td>1</td></tr>\n",
              "\t<tr><td>watch        </td><td>fear        </td><td>1</td></tr>\n",
              "\t<tr><td>wealth       </td><td>joy         </td><td>1</td></tr>\n",
              "\t<tr><td>wealth       </td><td>positive    </td><td>1</td></tr>\n",
              "\t<tr><td>wealth       </td><td>trust       </td><td>1</td></tr>\n",
              "\t<tr><td>welcomed     </td><td>joy         </td><td>1</td></tr>\n",
              "\t<tr><td>welcomed     </td><td>positive    </td><td>1</td></tr>\n",
              "\t<tr><td>winner       </td><td>anticipation</td><td>1</td></tr>\n",
              "\t<tr><td>winner       </td><td>joy         </td><td>1</td></tr>\n",
              "\t<tr><td>winner       </td><td>positive    </td><td>1</td></tr>\n",
              "\t<tr><td>winner       </td><td>surprise    </td><td>1</td></tr>\n",
              "\t<tr><td>words        </td><td>anger       </td><td>1</td></tr>\n",
              "\t<tr><td>words        </td><td>negative    </td><td>1</td></tr>\n",
              "\t<tr><td>worth        </td><td>positive    </td><td>1</td></tr>\n",
              "</tbody>\n",
              "</table>\n"
            ],
            "text/markdown": "\nA tibble: 924 × 3\n\n| word &lt;chr&gt; | sentiment &lt;chr&gt; | n &lt;int&gt; |\n|---|---|---|\n| congress  | disgust      | 4 |\n| congress  | trust        | 4 |\n| president | positive     | 4 |\n| president | trust        | 4 |\n| time      | anticipation | 4 |\n| career    | anticipation | 3 |\n| career    | positive     | 3 |\n| crisis    | negative     | 3 |\n| democracy | positive     | 3 |\n| dignity   | positive     | 3 |\n| dignity   | trust        | 3 |\n| educated  | positive     | 3 |\n| fair      | positive     | 3 |\n| law       | trust        | 3 |\n| money     | anger        | 3 |\n| money     | anticipation | 3 |\n| money     | joy          | 3 |\n| money     | positive     | 3 |\n| money     | surprise     | 3 |\n| money     | trust        | 3 |\n| nation    | trust        | 3 |\n| plan      | anticipation | 3 |\n| risk      | anticipation | 3 |\n| risk      | fear         | 3 |\n| risk      | negative     | 3 |\n| working   | positive     | 3 |\n| break     | surprise     | 2 |\n| cancer    | anger        | 2 |\n| cancer    | disgust      | 2 |\n| cancer    | fear         | 2 |\n| ⋮ | ⋮ | ⋮ |\n| unprecedented | surprise     | 1 |\n| vaccine       | positive     | 1 |\n| vice          | negative     | 1 |\n| violent       | anger        | 1 |\n| violent       | disgust      | 1 |\n| violent       | fear         | 1 |\n| violent       | negative     | 1 |\n| violent       | surprise     | 1 |\n| virus         | negative     | 1 |\n| vision        | anticipation | 1 |\n| vision        | positive     | 1 |\n| visit         | positive     | 1 |\n| wages         | joy          | 1 |\n| wages         | positive     | 1 |\n| wait          | anticipation | 1 |\n| wait          | negative     | 1 |\n| watch         | anticipation | 1 |\n| watch         | fear         | 1 |\n| wealth        | joy          | 1 |\n| wealth        | positive     | 1 |\n| wealth        | trust        | 1 |\n| welcomed      | joy          | 1 |\n| welcomed      | positive     | 1 |\n| winner        | anticipation | 1 |\n| winner        | joy          | 1 |\n| winner        | positive     | 1 |\n| winner        | surprise     | 1 |\n| words         | anger        | 1 |\n| words         | negative     | 1 |\n| worth         | positive     | 1 |\n\n",
            "text/latex": "A tibble: 924 × 3\n\\begin{tabular}{lll}\n word & sentiment & n\\\\\n <chr> & <chr> & <int>\\\\\n\\hline\n\t congress  & disgust      & 4\\\\\n\t congress  & trust        & 4\\\\\n\t president & positive     & 4\\\\\n\t president & trust        & 4\\\\\n\t time      & anticipation & 4\\\\\n\t career    & anticipation & 3\\\\\n\t career    & positive     & 3\\\\\n\t crisis    & negative     & 3\\\\\n\t democracy & positive     & 3\\\\\n\t dignity   & positive     & 3\\\\\n\t dignity   & trust        & 3\\\\\n\t educated  & positive     & 3\\\\\n\t fair      & positive     & 3\\\\\n\t law       & trust        & 3\\\\\n\t money     & anger        & 3\\\\\n\t money     & anticipation & 3\\\\\n\t money     & joy          & 3\\\\\n\t money     & positive     & 3\\\\\n\t money     & surprise     & 3\\\\\n\t money     & trust        & 3\\\\\n\t nation    & trust        & 3\\\\\n\t plan      & anticipation & 3\\\\\n\t risk      & anticipation & 3\\\\\n\t risk      & fear         & 3\\\\\n\t risk      & negative     & 3\\\\\n\t working   & positive     & 3\\\\\n\t break     & surprise     & 2\\\\\n\t cancer    & anger        & 2\\\\\n\t cancer    & disgust      & 2\\\\\n\t cancer    & fear         & 2\\\\\n\t ⋮ & ⋮ & ⋮\\\\\n\t unprecedented & surprise     & 1\\\\\n\t vaccine       & positive     & 1\\\\\n\t vice          & negative     & 1\\\\\n\t violent       & anger        & 1\\\\\n\t violent       & disgust      & 1\\\\\n\t violent       & fear         & 1\\\\\n\t violent       & negative     & 1\\\\\n\t violent       & surprise     & 1\\\\\n\t virus         & negative     & 1\\\\\n\t vision        & anticipation & 1\\\\\n\t vision        & positive     & 1\\\\\n\t visit         & positive     & 1\\\\\n\t wages         & joy          & 1\\\\\n\t wages         & positive     & 1\\\\\n\t wait          & anticipation & 1\\\\\n\t wait          & negative     & 1\\\\\n\t watch         & anticipation & 1\\\\\n\t watch         & fear         & 1\\\\\n\t wealth        & joy          & 1\\\\\n\t wealth        & positive     & 1\\\\\n\t wealth        & trust        & 1\\\\\n\t welcomed      & joy          & 1\\\\\n\t welcomed      & positive     & 1\\\\\n\t winner        & anticipation & 1\\\\\n\t winner        & joy          & 1\\\\\n\t winner        & positive     & 1\\\\\n\t winner        & surprise     & 1\\\\\n\t words         & anger        & 1\\\\\n\t words         & negative     & 1\\\\\n\t worth         & positive     & 1\\\\\n\\end{tabular}\n",
            "text/plain": [
              "    word          sentiment    n\n",
              "1   congress      disgust      4\n",
              "2   congress      trust        4\n",
              "3   president     positive     4\n",
              "4   president     trust        4\n",
              "5   time          anticipation 4\n",
              "6   career        anticipation 3\n",
              "7   career        positive     3\n",
              "8   crisis        negative     3\n",
              "9   democracy     positive     3\n",
              "10  dignity       positive     3\n",
              "11  dignity       trust        3\n",
              "12  educated      positive     3\n",
              "13  fair          positive     3\n",
              "14  law           trust        3\n",
              "15  money         anger        3\n",
              "16  money         anticipation 3\n",
              "17  money         joy          3\n",
              "18  money         positive     3\n",
              "19  money         surprise     3\n",
              "20  money         trust        3\n",
              "21  nation        trust        3\n",
              "22  plan          anticipation 3\n",
              "23  risk          anticipation 3\n",
              "24  risk          fear         3\n",
              "25  risk          negative     3\n",
              "26  working       positive     3\n",
              "27  break         surprise     2\n",
              "28  cancer        anger        2\n",
              "29  cancer        disgust      2\n",
              "30  cancer        fear         2\n",
              "⋮   ⋮             ⋮            ⋮\n",
              "895 unprecedented surprise     1\n",
              "896 vaccine       positive     1\n",
              "897 vice          negative     1\n",
              "898 violent       anger        1\n",
              "899 violent       disgust      1\n",
              "900 violent       fear         1\n",
              "901 violent       negative     1\n",
              "902 violent       surprise     1\n",
              "903 virus         negative     1\n",
              "904 vision        anticipation 1\n",
              "905 vision        positive     1\n",
              "906 visit         positive     1\n",
              "907 wages         joy          1\n",
              "908 wages         positive     1\n",
              "909 wait          anticipation 1\n",
              "910 wait          negative     1\n",
              "911 watch         anticipation 1\n",
              "912 watch         fear         1\n",
              "913 wealth        joy          1\n",
              "914 wealth        positive     1\n",
              "915 wealth        trust        1\n",
              "916 welcomed      joy          1\n",
              "917 welcomed      positive     1\n",
              "918 winner        anticipation 1\n",
              "919 winner        joy          1\n",
              "920 winner        positive     1\n",
              "921 winner        surprise     1\n",
              "922 words         anger        1\n",
              "923 words         negative     1\n",
              "924 worth         positive     1"
            ]
          },
          "metadata": {}
        },
        {
          "output_type": "display_data",
          "data": {
            "text/plain": [
              "plot without title"
            ],
            "image/png": "[encoded data removed]"
          },
          "metadata": {
            "image/png": {
              "width": 420,
              "height": 420
            }
          }
        }
      ]
    },
    {
      "cell_type": "markdown",
      "source": [
        "## Analiza sentymentu przy użyciu słownika Bing ----"
      ],
      "metadata": {
        "id": "a5oNsD4-LD9a"
      }
    },
    {
      "cell_type": "code",
      "source": [
        "# Zliczanie sentymentu\n",
        "sentiment_review_bing <- tidy_tokeny %>%\n",
        "  inner_join(bing)\n",
        "\n",
        "sentiment_review_bing %>%\n",
        "  count(sentiment)\n",
        "\n",
        "# Zliczanie, które słowa są najczęstsze\n",
        "# dla danego sentymentu\n",
        "sentiment_review_bing %>%\n",
        "  count(word, sentiment) %>%\n",
        "  arrange(desc(n))\n",
        "\n",
        "\n",
        "# Filtrowanie analizy sentymentu\n",
        "# i pozostawienie tylko słów\n",
        "# o sentymencie pozytywnym lub negatywnym\n",
        "\n",
        "sentiment_review_bing2 <- sentiment_review_bing %>%\n",
        "  filter(sentiment %in% c(\"positive\", \"negative\"))\n",
        "\n",
        "\n",
        "word_counts_bing2 <- sentiment_review_bing2 %>%\n",
        "  count(word, sentiment) %>%\n",
        "  group_by(sentiment) %>%\n",
        "  top_n(10, n) %>%\n",
        "  ungroup() %>%\n",
        "  mutate(\n",
        "    word2 = fct_reorder(word, n)\n",
        "  )\n",
        "\n",
        "# Wizualizacja sentymentu\n",
        "ggplot(word_counts_bing2, aes(x=word2, y=n, fill=sentiment)) +\n",
        "  geom_col(show.legend=FALSE) +\n",
        "  facet_wrap(~sentiment, scales=\"free\") +\n",
        "  coord_flip() +\n",
        "  labs(x = \"Słowa\", y = \"Liczba\") +\n",
        "  theme_gdocs() +\n",
        "  ggtitle(\"Liczba słów wg sentymentu (Bing)\") +\n",
        "  scale_fill_manual(values = c(\"dodgerblue4\", \"goldenrod1\"))"
      ],
      "metadata": {
        "colab": {
          "base_uri": "https://localhost:8080/",
          "height": 1000
        },
        "id": "giVQyqdVLGp5",
        "outputId": "16c19cc7-7cc8-4560-f797-4f65d4d570fc"
      },
      "execution_count": 9,
      "outputs": [
        {
          "output_type": "stream",
          "name": "stderr",
          "text": [
            "\u001b[1m\u001b[22mJoining with `by = join_by(word)`\n"
          ]
        },
        {
          "output_type": "display_data",
          "data": {
            "text/html": [
              "<table class=\"dataframe\">\n",
              "<caption>A tibble: 2 × 2</caption>\n",
              "<thead>\n",
              "\t<tr><th scope=col>sentiment</th><th scope=col>n</th></tr>\n",
              "\t<tr><th scope=col>&lt;chr&gt;</th><th scope=col>&lt;int&gt;</th></tr>\n",
              "</thead>\n",
              "<tbody>\n",
              "\t<tr><td>negative</td><td>118</td></tr>\n",
              "\t<tr><td>positive</td><td>140</td></tr>\n",
              "</tbody>\n",
              "</table>\n"
            ],
            "text/markdown": "\nA tibble: 2 × 2\n\n| sentiment &lt;chr&gt; | n &lt;int&gt; |\n|---|---|\n| negative | 118 |\n| positive | 140 |\n\n",
            "text/latex": "A tibble: 2 × 2\n\\begin{tabular}{ll}\n sentiment & n\\\\\n <chr> & <int>\\\\\n\\hline\n\t negative & 118\\\\\n\t positive & 140\\\\\n\\end{tabular}\n",
            "text/plain": [
              "  sentiment n  \n",
              "1 negative  118\n",
              "2 positive  140"
            ]
          },
          "metadata": {}
        },
        {
          "output_type": "display_data",
          "data": {
            "text/html": [
              "<table class=\"dataframe\">\n",
              "<caption>A tibble: 208 × 3</caption>\n",
              "<thead>\n",
              "\t<tr><th scope=col>word</th><th scope=col>sentiment</th><th scope=col>n</th></tr>\n",
              "\t<tr><th scope=col>&lt;chr&gt;</th><th scope=col>&lt;chr&gt;</th><th scope=col>&lt;int&gt;</th></tr>\n",
              "</thead>\n",
              "<tbody>\n",
              "\t<tr><td>right     </td><td>positive</td><td>5</td></tr>\n",
              "\t<tr><td>crisis    </td><td>negative</td><td>3</td></tr>\n",
              "\t<tr><td>dignity   </td><td>positive</td><td>3</td></tr>\n",
              "\t<tr><td>educated  </td><td>positive</td><td>3</td></tr>\n",
              "\t<tr><td>fair      </td><td>positive</td><td>3</td></tr>\n",
              "\t<tr><td>great     </td><td>positive</td><td>3</td></tr>\n",
              "\t<tr><td>optimistic</td><td>positive</td><td>3</td></tr>\n",
              "\t<tr><td>risk      </td><td>negative</td><td>3</td></tr>\n",
              "\t<tr><td>wealthy   </td><td>positive</td><td>3</td></tr>\n",
              "\t<tr><td>welcome   </td><td>positive</td><td>3</td></tr>\n",
              "\t<tr><td>well      </td><td>positive</td><td>3</td></tr>\n",
              "\t<tr><td>affordable</td><td>positive</td><td>2</td></tr>\n",
              "\t<tr><td>best      </td><td>positive</td><td>2</td></tr>\n",
              "\t<tr><td>better    </td><td>positive</td><td>2</td></tr>\n",
              "\t<tr><td>break     </td><td>negative</td><td>2</td></tr>\n",
              "\t<tr><td>breaks    </td><td>negative</td><td>2</td></tr>\n",
              "\t<tr><td>cancer    </td><td>negative</td><td>2</td></tr>\n",
              "\t<tr><td>clearly   </td><td>positive</td><td>2</td></tr>\n",
              "\t<tr><td>conflict  </td><td>negative</td><td>2</td></tr>\n",
              "\t<tr><td>crime     </td><td>negative</td><td>2</td></tr>\n",
              "\t<tr><td>failed    </td><td>negative</td><td>2</td></tr>\n",
              "\t<tr><td>freedom   </td><td>positive</td><td>2</td></tr>\n",
              "\t<tr><td>good      </td><td>positive</td><td>2</td></tr>\n",
              "\t<tr><td>hate      </td><td>negative</td><td>2</td></tr>\n",
              "\t<tr><td>killed    </td><td>negative</td><td>2</td></tr>\n",
              "\t<tr><td>lies      </td><td>negative</td><td>2</td></tr>\n",
              "\t<tr><td>like      </td><td>positive</td><td>2</td></tr>\n",
              "\t<tr><td>mad       </td><td>negative</td><td>2</td></tr>\n",
              "\t<tr><td>peace     </td><td>positive</td><td>2</td></tr>\n",
              "\t<tr><td>respect   </td><td>positive</td><td>2</td></tr>\n",
              "\t<tr><td>⋮</td><td>⋮</td><td>⋮</td></tr>\n",
              "\t<tr><td>super        </td><td>positive</td><td>1</td></tr>\n",
              "\t<tr><td>supporter    </td><td>positive</td><td>1</td></tr>\n",
              "\t<tr><td>supporting   </td><td>positive</td><td>1</td></tr>\n",
              "\t<tr><td>supports     </td><td>positive</td><td>1</td></tr>\n",
              "\t<tr><td>suppression  </td><td>negative</td><td>1</td></tr>\n",
              "\t<tr><td>supreme      </td><td>positive</td><td>1</td></tr>\n",
              "\t<tr><td>suspect      </td><td>negative</td><td>1</td></tr>\n",
              "\t<tr><td>thank        </td><td>positive</td><td>1</td></tr>\n",
              "\t<tr><td>threat       </td><td>negative</td><td>1</td></tr>\n",
              "\t<tr><td>threats      </td><td>negative</td><td>1</td></tr>\n",
              "\t<tr><td>toll         </td><td>negative</td><td>1</td></tr>\n",
              "\t<tr><td>top          </td><td>positive</td><td>1</td></tr>\n",
              "\t<tr><td>tough        </td><td>positive</td><td>1</td></tr>\n",
              "\t<tr><td>toughest     </td><td>positive</td><td>1</td></tr>\n",
              "\t<tr><td>trouble      </td><td>negative</td><td>1</td></tr>\n",
              "\t<tr><td>unacceptable </td><td>negative</td><td>1</td></tr>\n",
              "\t<tr><td>unfortunately</td><td>negative</td><td>1</td></tr>\n",
              "\t<tr><td>unity        </td><td>positive</td><td>1</td></tr>\n",
              "\t<tr><td>unjustly     </td><td>negative</td><td>1</td></tr>\n",
              "\t<tr><td>unlikely     </td><td>negative</td><td>1</td></tr>\n",
              "\t<tr><td>unlimited    </td><td>positive</td><td>1</td></tr>\n",
              "\t<tr><td>vice         </td><td>negative</td><td>1</td></tr>\n",
              "\t<tr><td>violent      </td><td>negative</td><td>1</td></tr>\n",
              "\t<tr><td>virus        </td><td>negative</td><td>1</td></tr>\n",
              "\t<tr><td>winner       </td><td>positive</td><td>1</td></tr>\n",
              "\t<tr><td>won          </td><td>positive</td><td>1</td></tr>\n",
              "\t<tr><td>worked       </td><td>positive</td><td>1</td></tr>\n",
              "\t<tr><td>worst        </td><td>negative</td><td>1</td></tr>\n",
              "\t<tr><td>worth        </td><td>positive</td><td>1</td></tr>\n",
              "\t<tr><td>yay          </td><td>positive</td><td>1</td></tr>\n",
              "</tbody>\n",
              "</table>\n"
            ],
            "text/markdown": "\nA tibble: 208 × 3\n\n| word &lt;chr&gt; | sentiment &lt;chr&gt; | n &lt;int&gt; |\n|---|---|---|\n| right      | positive | 5 |\n| crisis     | negative | 3 |\n| dignity    | positive | 3 |\n| educated   | positive | 3 |\n| fair       | positive | 3 |\n| great      | positive | 3 |\n| optimistic | positive | 3 |\n| risk       | negative | 3 |\n| wealthy    | positive | 3 |\n| welcome    | positive | 3 |\n| well       | positive | 3 |\n| affordable | positive | 2 |\n| best       | positive | 2 |\n| better     | positive | 2 |\n| break      | negative | 2 |\n| breaks     | negative | 2 |\n| cancer     | negative | 2 |\n| clearly    | positive | 2 |\n| conflict   | negative | 2 |\n| crime      | negative | 2 |\n| failed     | negative | 2 |\n| freedom    | positive | 2 |\n| good       | positive | 2 |\n| hate       | negative | 2 |\n| killed     | negative | 2 |\n| lies       | negative | 2 |\n| like       | positive | 2 |\n| mad        | negative | 2 |\n| peace      | positive | 2 |\n| respect    | positive | 2 |\n| ⋮ | ⋮ | ⋮ |\n| super         | positive | 1 |\n| supporter     | positive | 1 |\n| supporting    | positive | 1 |\n| supports      | positive | 1 |\n| suppression   | negative | 1 |\n| supreme       | positive | 1 |\n| suspect       | negative | 1 |\n| thank         | positive | 1 |\n| threat        | negative | 1 |\n| threats       | negative | 1 |\n| toll          | negative | 1 |\n| top           | positive | 1 |\n| tough         | positive | 1 |\n| toughest      | positive | 1 |\n| trouble       | negative | 1 |\n| unacceptable  | negative | 1 |\n| unfortunately | negative | 1 |\n| unity         | positive | 1 |\n| unjustly      | negative | 1 |\n| unlikely      | negative | 1 |\n| unlimited     | positive | 1 |\n| vice          | negative | 1 |\n| violent       | negative | 1 |\n| virus         | negative | 1 |\n| winner        | positive | 1 |\n| won           | positive | 1 |\n| worked        | positive | 1 |\n| worst         | negative | 1 |\n| worth         | positive | 1 |\n| yay           | positive | 1 |\n\n",
            "text/latex": "A tibble: 208 × 3\n\\begin{tabular}{lll}\n word & sentiment & n\\\\\n <chr> & <chr> & <int>\\\\\n\\hline\n\t right      & positive & 5\\\\\n\t crisis     & negative & 3\\\\\n\t dignity    & positive & 3\\\\\n\t educated   & positive & 3\\\\\n\t fair       & positive & 3\\\\\n\t great      & positive & 3\\\\\n\t optimistic & positive & 3\\\\\n\t risk       & negative & 3\\\\\n\t wealthy    & positive & 3\\\\\n\t welcome    & positive & 3\\\\\n\t well       & positive & 3\\\\\n\t affordable & positive & 2\\\\\n\t best       & positive & 2\\\\\n\t better     & positive & 2\\\\\n\t break      & negative & 2\\\\\n\t breaks     & negative & 2\\\\\n\t cancer     & negative & 2\\\\\n\t clearly    & positive & 2\\\\\n\t conflict   & negative & 2\\\\\n\t crime      & negative & 2\\\\\n\t failed     & negative & 2\\\\\n\t freedom    & positive & 2\\\\\n\t good       & positive & 2\\\\\n\t hate       & negative & 2\\\\\n\t killed     & negative & 2\\\\\n\t lies       & negative & 2\\\\\n\t like       & positive & 2\\\\\n\t mad        & negative & 2\\\\\n\t peace      & positive & 2\\\\\n\t respect    & positive & 2\\\\\n\t ⋮ & ⋮ & ⋮\\\\\n\t super         & positive & 1\\\\\n\t supporter     & positive & 1\\\\\n\t supporting    & positive & 1\\\\\n\t supports      & positive & 1\\\\\n\t suppression   & negative & 1\\\\\n\t supreme       & positive & 1\\\\\n\t suspect       & negative & 1\\\\\n\t thank         & positive & 1\\\\\n\t threat        & negative & 1\\\\\n\t threats       & negative & 1\\\\\n\t toll          & negative & 1\\\\\n\t top           & positive & 1\\\\\n\t tough         & positive & 1\\\\\n\t toughest      & positive & 1\\\\\n\t trouble       & negative & 1\\\\\n\t unacceptable  & negative & 1\\\\\n\t unfortunately & negative & 1\\\\\n\t unity         & positive & 1\\\\\n\t unjustly      & negative & 1\\\\\n\t unlikely      & negative & 1\\\\\n\t unlimited     & positive & 1\\\\\n\t vice          & negative & 1\\\\\n\t violent       & negative & 1\\\\\n\t virus         & negative & 1\\\\\n\t winner        & positive & 1\\\\\n\t won           & positive & 1\\\\\n\t worked        & positive & 1\\\\\n\t worst         & negative & 1\\\\\n\t worth         & positive & 1\\\\\n\t yay           & positive & 1\\\\\n\\end{tabular}\n",
            "text/plain": [
              "    word          sentiment n\n",
              "1   right         positive  5\n",
              "2   crisis        negative  3\n",
              "3   dignity       positive  3\n",
              "4   educated      positive  3\n",
              "5   fair          positive  3\n",
              "6   great         positive  3\n",
              "7   optimistic    positive  3\n",
              "8   risk          negative  3\n",
              "9   wealthy       positive  3\n",
              "10  welcome       positive  3\n",
              "11  well          positive  3\n",
              "12  affordable    positive  2\n",
              "13  best          positive  2\n",
              "14  better        positive  2\n",
              "15  break         negative  2\n",
              "16  breaks        negative  2\n",
              "17  cancer        negative  2\n",
              "18  clearly       positive  2\n",
              "19  conflict      negative  2\n",
              "20  crime         negative  2\n",
              "21  failed        negative  2\n",
              "22  freedom       positive  2\n",
              "23  good          positive  2\n",
              "24  hate          negative  2\n",
              "25  killed        negative  2\n",
              "26  lies          negative  2\n",
              "27  like          positive  2\n",
              "28  mad           negative  2\n",
              "29  peace         positive  2\n",
              "30  respect       positive  2\n",
              "⋮   ⋮             ⋮         ⋮\n",
              "179 super         positive  1\n",
              "180 supporter     positive  1\n",
              "181 supporting    positive  1\n",
              "182 supports      positive  1\n",
              "183 suppression   negative  1\n",
              "184 supreme       positive  1\n",
              "185 suspect       negative  1\n",
              "186 thank         positive  1\n",
              "187 threat        negative  1\n",
              "188 threats       negative  1\n",
              "189 toll          negative  1\n",
              "190 top           positive  1\n",
              "191 tough         positive  1\n",
              "192 toughest      positive  1\n",
              "193 trouble       negative  1\n",
              "194 unacceptable  negative  1\n",
              "195 unfortunately negative  1\n",
              "196 unity         positive  1\n",
              "197 unjustly      negative  1\n",
              "198 unlikely      negative  1\n",
              "199 unlimited     positive  1\n",
              "200 vice          negative  1\n",
              "201 violent       negative  1\n",
              "202 virus         negative  1\n",
              "203 winner        positive  1\n",
              "204 won           positive  1\n",
              "205 worked        positive  1\n",
              "206 worst         negative  1\n",
              "207 worth         positive  1\n",
              "208 yay           positive  1"
            ]
          },
          "metadata": {}
        },
        {
          "output_type": "display_data",
          "data": {
            "text/plain": [
              "plot without title"
            ],
            "image/png": "[encoded data removed]"
          },
          "metadata": {
            "image/png": {
              "width": 420,
              "height": 420
            }
          }
        }
      ]
    },
    {
      "cell_type": "markdown",
      "source": [
        "## Analiza sentymentu przy użyciu słownika Afinn ----"
      ],
      "metadata": {
        "id": "-Dp1untzLKE8"
      }
    },
    {
      "cell_type": "code",
      "source": [
        "# Zliczanie sentymentu\n",
        "sentiment_review_afinn <- tidy_tokeny %>%\n",
        "  inner_join(afinn)\n",
        "\n",
        "sentiment_review_afinn %>%\n",
        "  count(value)\n",
        "\n",
        "# Zliczanie, które słowa są najczęstsze\n",
        "# dla danego sentymentu\n",
        "sentiment_review_afinn %>%\n",
        "  count(word, value) %>%\n",
        "  arrange(desc(n))\n",
        "\n",
        "\n",
        "# Silnie pozytywne lub silnie negatywne słowa:\n",
        "# filtrowanie analizy sentymentu\n",
        "# i pozostawienie tylko słów o wartości w zakresie od -5 do 5\n",
        "\n",
        "sentiment_review_afinn3 <- sentiment_review_afinn %>%\n",
        "  filter(value %in% c(\"3\", \"-3\" , \"4\", \"-4\", \"5\", \"-5\"))\n",
        "\n",
        "\n",
        "word_counts_afinn3 <- sentiment_review_afinn3 %>%\n",
        "  count(word, value) %>%\n",
        "  group_by(value) %>%\n",
        "  top_n(10, n) %>%\n",
        "  ungroup() %>%\n",
        "  mutate(\n",
        "    word2 = fct_reorder(word, n)\n",
        "  )\n",
        "\n",
        "# Wizualizacja sentymentu\n",
        "ggplot(word_counts_afinn3, aes(x=word2, y=n, fill=value)) +\n",
        "  geom_col(show.legend=FALSE) +\n",
        "  facet_wrap(~value, scales=\"free\") +\n",
        "  coord_flip() +\n",
        "  labs(x = \"Słowa\", y = \"Liczba\") +\n",
        "  theme_gdocs() +\n",
        "  ggtitle(\"Liczba słów wg sentymentu (AFINN)\")"
      ],
      "metadata": {
        "colab": {
          "base_uri": "https://localhost:8080/",
          "height": 1000
        },
        "id": "D4R9t4OeLNlJ",
        "outputId": "3bdc831c-a87a-445a-d72a-841a78fba1e1"
      },
      "execution_count": 10,
      "outputs": [
        {
          "output_type": "stream",
          "name": "stderr",
          "text": [
            "\u001b[1m\u001b[22mJoining with `by = join_by(word)`\n"
          ]
        },
        {
          "output_type": "display_data",
          "data": {
            "text/html": [
              "<table class=\"dataframe\">\n",
              "<caption>A tibble: 8 × 2</caption>\n",
              "<thead>\n",
              "\t<tr><th scope=col>value</th><th scope=col>n</th></tr>\n",
              "\t<tr><th scope=col>&lt;int&gt;</th><th scope=col>&lt;int&gt;</th></tr>\n",
              "</thead>\n",
              "<tbody>\n",
              "\t<tr><td>-4</td><td> 2</td></tr>\n",
              "\t<tr><td>-3</td><td>28</td></tr>\n",
              "\t<tr><td>-2</td><td>52</td></tr>\n",
              "\t<tr><td>-1</td><td>43</td></tr>\n",
              "\t<tr><td> 1</td><td>54</td></tr>\n",
              "\t<tr><td> 2</td><td>75</td></tr>\n",
              "\t<tr><td> 3</td><td>15</td></tr>\n",
              "\t<tr><td> 4</td><td> 5</td></tr>\n",
              "</tbody>\n",
              "</table>\n"
            ],
            "text/markdown": "\nA tibble: 8 × 2\n\n| value &lt;int&gt; | n &lt;int&gt; |\n|---|---|\n| -4 |  2 |\n| -3 | 28 |\n| -2 | 52 |\n| -1 | 43 |\n|  1 | 54 |\n|  2 | 75 |\n|  3 | 15 |\n|  4 |  5 |\n\n",
            "text/latex": "A tibble: 8 × 2\n\\begin{tabular}{ll}\n value & n\\\\\n <int> & <int>\\\\\n\\hline\n\t -4 &  2\\\\\n\t -3 & 28\\\\\n\t -2 & 52\\\\\n\t -1 & 43\\\\\n\t  1 & 54\\\\\n\t  2 & 75\\\\\n\t  3 & 15\\\\\n\t  4 &  5\\\\\n\\end{tabular}\n",
            "text/plain": [
              "  value n \n",
              "1 -4     2\n",
              "2 -3    28\n",
              "3 -2    52\n",
              "4 -1    43\n",
              "5  1    54\n",
              "6  2    75\n",
              "7  3    15\n",
              "8  4     5"
            ]
          },
          "metadata": {}
        },
        {
          "output_type": "display_data",
          "data": {
            "text/html": [
              "<table class=\"dataframe\">\n",
              "<caption>A tibble: 219 × 3</caption>\n",
              "<thead>\n",
              "\t<tr><th scope=col>word</th><th scope=col>value</th><th scope=col>n</th></tr>\n",
              "\t<tr><th scope=col>&lt;chr&gt;</th><th scope=col>&lt;int&gt;</th><th scope=col>&lt;int&gt;</th></tr>\n",
              "</thead>\n",
              "<tbody>\n",
              "\t<tr><td>no        </td><td>-1</td><td>4</td></tr>\n",
              "\t<tr><td>crisis    </td><td>-3</td><td>3</td></tr>\n",
              "\t<tr><td>fair      </td><td> 2</td><td>3</td></tr>\n",
              "\t<tr><td>great     </td><td> 3</td><td>3</td></tr>\n",
              "\t<tr><td>optimistic</td><td> 2</td><td>3</td></tr>\n",
              "\t<tr><td>risk      </td><td>-2</td><td>3</td></tr>\n",
              "\t<tr><td>stop      </td><td>-1</td><td>3</td></tr>\n",
              "\t<tr><td>want      </td><td> 1</td><td>3</td></tr>\n",
              "\t<tr><td>wealthy   </td><td> 2</td><td>3</td></tr>\n",
              "\t<tr><td>welcome   </td><td> 2</td><td>3</td></tr>\n",
              "\t<tr><td>best      </td><td> 3</td><td>2</td></tr>\n",
              "\t<tr><td>better    </td><td> 2</td><td>2</td></tr>\n",
              "\t<tr><td>block     </td><td>-1</td><td>2</td></tr>\n",
              "\t<tr><td>cancer    </td><td>-1</td><td>2</td></tr>\n",
              "\t<tr><td>care      </td><td> 2</td><td>2</td></tr>\n",
              "\t<tr><td>clearly   </td><td> 1</td><td>2</td></tr>\n",
              "\t<tr><td>conflict  </td><td>-2</td><td>2</td></tr>\n",
              "\t<tr><td>crime     </td><td>-3</td><td>2</td></tr>\n",
              "\t<tr><td>cut       </td><td>-1</td><td>2</td></tr>\n",
              "\t<tr><td>deficit   </td><td>-2</td><td>2</td></tr>\n",
              "\t<tr><td>failed    </td><td>-2</td><td>2</td></tr>\n",
              "\t<tr><td>fight     </td><td>-1</td><td>2</td></tr>\n",
              "\t<tr><td>freedom   </td><td> 2</td><td>2</td></tr>\n",
              "\t<tr><td>god       </td><td> 1</td><td>2</td></tr>\n",
              "\t<tr><td>good      </td><td> 3</td><td>2</td></tr>\n",
              "\t<tr><td>hate      </td><td>-3</td><td>2</td></tr>\n",
              "\t<tr><td>help      </td><td> 2</td><td>2</td></tr>\n",
              "\t<tr><td>hope      </td><td> 2</td><td>2</td></tr>\n",
              "\t<tr><td>killed    </td><td>-3</td><td>2</td></tr>\n",
              "\t<tr><td>leave     </td><td>-1</td><td>2</td></tr>\n",
              "\t<tr><td>⋮</td><td>⋮</td><td>⋮</td></tr>\n",
              "\t<tr><td>strikes     </td><td>-1</td><td>1</td></tr>\n",
              "\t<tr><td>strong      </td><td> 2</td><td>1</td></tr>\n",
              "\t<tr><td>strongest   </td><td> 2</td><td>1</td></tr>\n",
              "\t<tr><td>struck      </td><td>-1</td><td>1</td></tr>\n",
              "\t<tr><td>super       </td><td> 3</td><td>1</td></tr>\n",
              "\t<tr><td>supporter   </td><td> 1</td><td>1</td></tr>\n",
              "\t<tr><td>supporting  </td><td> 1</td><td>1</td></tr>\n",
              "\t<tr><td>supports    </td><td> 2</td><td>1</td></tr>\n",
              "\t<tr><td>suspect     </td><td>-1</td><td>1</td></tr>\n",
              "\t<tr><td>thank       </td><td> 2</td><td>1</td></tr>\n",
              "\t<tr><td>thanks      </td><td> 2</td><td>1</td></tr>\n",
              "\t<tr><td>threat      </td><td>-2</td><td>1</td></tr>\n",
              "\t<tr><td>threats     </td><td>-2</td><td>1</td></tr>\n",
              "\t<tr><td>top         </td><td> 2</td><td>1</td></tr>\n",
              "\t<tr><td>trouble     </td><td>-2</td><td>1</td></tr>\n",
              "\t<tr><td>unacceptable</td><td>-2</td><td>1</td></tr>\n",
              "\t<tr><td>unemployment</td><td>-2</td><td>1</td></tr>\n",
              "\t<tr><td>unfair      </td><td>-2</td><td>1</td></tr>\n",
              "\t<tr><td>united      </td><td> 1</td><td>1</td></tr>\n",
              "\t<tr><td>violates    </td><td>-2</td><td>1</td></tr>\n",
              "\t<tr><td>violent     </td><td>-3</td><td>1</td></tr>\n",
              "\t<tr><td>vision      </td><td> 1</td><td>1</td></tr>\n",
              "\t<tr><td>wealth      </td><td> 3</td><td>1</td></tr>\n",
              "\t<tr><td>welcomed    </td><td> 2</td><td>1</td></tr>\n",
              "\t<tr><td>winner      </td><td> 4</td><td>1</td></tr>\n",
              "\t<tr><td>wish        </td><td> 1</td><td>1</td></tr>\n",
              "\t<tr><td>won         </td><td> 3</td><td>1</td></tr>\n",
              "\t<tr><td>worst       </td><td>-3</td><td>1</td></tr>\n",
              "\t<tr><td>worth       </td><td> 2</td><td>1</td></tr>\n",
              "\t<tr><td>yes         </td><td> 1</td><td>1</td></tr>\n",
              "</tbody>\n",
              "</table>\n"
            ],
            "text/markdown": "\nA tibble: 219 × 3\n\n| word &lt;chr&gt; | value &lt;int&gt; | n &lt;int&gt; |\n|---|---|---|\n| no         | -1 | 4 |\n| crisis     | -3 | 3 |\n| fair       |  2 | 3 |\n| great      |  3 | 3 |\n| optimistic |  2 | 3 |\n| risk       | -2 | 3 |\n| stop       | -1 | 3 |\n| want       |  1 | 3 |\n| wealthy    |  2 | 3 |\n| welcome    |  2 | 3 |\n| best       |  3 | 2 |\n| better     |  2 | 2 |\n| block      | -1 | 2 |\n| cancer     | -1 | 2 |\n| care       |  2 | 2 |\n| clearly    |  1 | 2 |\n| conflict   | -2 | 2 |\n| crime      | -3 | 2 |\n| cut        | -1 | 2 |\n| deficit    | -2 | 2 |\n| failed     | -2 | 2 |\n| fight      | -1 | 2 |\n| freedom    |  2 | 2 |\n| god        |  1 | 2 |\n| good       |  3 | 2 |\n| hate       | -3 | 2 |\n| help       |  2 | 2 |\n| hope       |  2 | 2 |\n| killed     | -3 | 2 |\n| leave      | -1 | 2 |\n| ⋮ | ⋮ | ⋮ |\n| strikes      | -1 | 1 |\n| strong       |  2 | 1 |\n| strongest    |  2 | 1 |\n| struck       | -1 | 1 |\n| super        |  3 | 1 |\n| supporter    |  1 | 1 |\n| supporting   |  1 | 1 |\n| supports     |  2 | 1 |\n| suspect      | -1 | 1 |\n| thank        |  2 | 1 |\n| thanks       |  2 | 1 |\n| threat       | -2 | 1 |\n| threats      | -2 | 1 |\n| top          |  2 | 1 |\n| trouble      | -2 | 1 |\n| unacceptable | -2 | 1 |\n| unemployment | -2 | 1 |\n| unfair       | -2 | 1 |\n| united       |  1 | 1 |\n| violates     | -2 | 1 |\n| violent      | -3 | 1 |\n| vision       |  1 | 1 |\n| wealth       |  3 | 1 |\n| welcomed     |  2 | 1 |\n| winner       |  4 | 1 |\n| wish         |  1 | 1 |\n| won          |  3 | 1 |\n| worst        | -3 | 1 |\n| worth        |  2 | 1 |\n| yes          |  1 | 1 |\n\n",
            "text/latex": "A tibble: 219 × 3\n\\begin{tabular}{lll}\n word & value & n\\\\\n <chr> & <int> & <int>\\\\\n\\hline\n\t no         & -1 & 4\\\\\n\t crisis     & -3 & 3\\\\\n\t fair       &  2 & 3\\\\\n\t great      &  3 & 3\\\\\n\t optimistic &  2 & 3\\\\\n\t risk       & -2 & 3\\\\\n\t stop       & -1 & 3\\\\\n\t want       &  1 & 3\\\\\n\t wealthy    &  2 & 3\\\\\n\t welcome    &  2 & 3\\\\\n\t best       &  3 & 2\\\\\n\t better     &  2 & 2\\\\\n\t block      & -1 & 2\\\\\n\t cancer     & -1 & 2\\\\\n\t care       &  2 & 2\\\\\n\t clearly    &  1 & 2\\\\\n\t conflict   & -2 & 2\\\\\n\t crime      & -3 & 2\\\\\n\t cut        & -1 & 2\\\\\n\t deficit    & -2 & 2\\\\\n\t failed     & -2 & 2\\\\\n\t fight      & -1 & 2\\\\\n\t freedom    &  2 & 2\\\\\n\t god        &  1 & 2\\\\\n\t good       &  3 & 2\\\\\n\t hate       & -3 & 2\\\\\n\t help       &  2 & 2\\\\\n\t hope       &  2 & 2\\\\\n\t killed     & -3 & 2\\\\\n\t leave      & -1 & 2\\\\\n\t ⋮ & ⋮ & ⋮\\\\\n\t strikes      & -1 & 1\\\\\n\t strong       &  2 & 1\\\\\n\t strongest    &  2 & 1\\\\\n\t struck       & -1 & 1\\\\\n\t super        &  3 & 1\\\\\n\t supporter    &  1 & 1\\\\\n\t supporting   &  1 & 1\\\\\n\t supports     &  2 & 1\\\\\n\t suspect      & -1 & 1\\\\\n\t thank        &  2 & 1\\\\\n\t thanks       &  2 & 1\\\\\n\t threat       & -2 & 1\\\\\n\t threats      & -2 & 1\\\\\n\t top          &  2 & 1\\\\\n\t trouble      & -2 & 1\\\\\n\t unacceptable & -2 & 1\\\\\n\t unemployment & -2 & 1\\\\\n\t unfair       & -2 & 1\\\\\n\t united       &  1 & 1\\\\\n\t violates     & -2 & 1\\\\\n\t violent      & -3 & 1\\\\\n\t vision       &  1 & 1\\\\\n\t wealth       &  3 & 1\\\\\n\t welcomed     &  2 & 1\\\\\n\t winner       &  4 & 1\\\\\n\t wish         &  1 & 1\\\\\n\t won          &  3 & 1\\\\\n\t worst        & -3 & 1\\\\\n\t worth        &  2 & 1\\\\\n\t yes          &  1 & 1\\\\\n\\end{tabular}\n",
            "text/plain": [
              "    word         value n\n",
              "1   no           -1    4\n",
              "2   crisis       -3    3\n",
              "3   fair          2    3\n",
              "4   great         3    3\n",
              "5   optimistic    2    3\n",
              "6   risk         -2    3\n",
              "7   stop         -1    3\n",
              "8   want          1    3\n",
              "9   wealthy       2    3\n",
              "10  welcome       2    3\n",
              "11  best          3    2\n",
              "12  better        2    2\n",
              "13  block        -1    2\n",
              "14  cancer       -1    2\n",
              "15  care          2    2\n",
              "16  clearly       1    2\n",
              "17  conflict     -2    2\n",
              "18  crime        -3    2\n",
              "19  cut          -1    2\n",
              "20  deficit      -2    2\n",
              "21  failed       -2    2\n",
              "22  fight        -1    2\n",
              "23  freedom       2    2\n",
              "24  god           1    2\n",
              "25  good          3    2\n",
              "26  hate         -3    2\n",
              "27  help          2    2\n",
              "28  hope          2    2\n",
              "29  killed       -3    2\n",
              "30  leave        -1    2\n",
              "⋮   ⋮            ⋮     ⋮\n",
              "190 strikes      -1    1\n",
              "191 strong        2    1\n",
              "192 strongest     2    1\n",
              "193 struck       -1    1\n",
              "194 super         3    1\n",
              "195 supporter     1    1\n",
              "196 supporting    1    1\n",
              "197 supports      2    1\n",
              "198 suspect      -1    1\n",
              "199 thank         2    1\n",
              "200 thanks        2    1\n",
              "201 threat       -2    1\n",
              "202 threats      -2    1\n",
              "203 top           2    1\n",
              "204 trouble      -2    1\n",
              "205 unacceptable -2    1\n",
              "206 unemployment -2    1\n",
              "207 unfair       -2    1\n",
              "208 united        1    1\n",
              "209 violates     -2    1\n",
              "210 violent      -3    1\n",
              "211 vision        1    1\n",
              "212 wealth        3    1\n",
              "213 welcomed      2    1\n",
              "214 winner        4    1\n",
              "215 wish          1    1\n",
              "216 won           3    1\n",
              "217 worst        -3    1\n",
              "218 worth         2    1\n",
              "219 yes           1    1"
            ]
          },
          "metadata": {}
        },
        {
          "output_type": "display_data",
          "data": {
            "text/plain": [
              "plot without title"
            ],
            "image/png": "[encoded data removed]"
          },
          "metadata": {
            "image/png": {
              "width": 420,
              "height": 420
            }
          }
        }
      ]
    }
  ]
}